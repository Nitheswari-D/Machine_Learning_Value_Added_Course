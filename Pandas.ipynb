{
 "cells": [
  {
   "cell_type": "code",
   "execution_count": 1,
   "id": "5b74fa20",
   "metadata": {},
   "outputs": [
    {
     "name": "stdout",
     "output_type": "stream",
     "text": [
      "Package                       Version\n",
      "----------------------------- ---------------\n",
      "aiobotocore                   2.5.0\n",
      "aiofiles                      22.1.0\n",
      "aiohttp                       3.8.5\n",
      "aioitertools                  0.7.1\n",
      "aiosignal                     1.2.0\n",
      "aiosqlite                     0.18.0\n",
      "alabaster                     0.7.12\n",
      "anaconda-anon-usage           0.4.2\n",
      "anaconda-catalogs             0.2.0\n",
      "anaconda-client               1.12.1\n",
      "anaconda-cloud-auth           0.1.3\n",
      "anaconda-navigator            2.5.0\n",
      "anaconda-project              0.11.1\n",
      "anyio                         3.5.0\n",
      "appdirs                       1.4.4\n",
      "argon2-cffi                   21.3.0\n",
      "argon2-cffi-bindings          21.2.0\n",
      "arrow                         1.2.3\n",
      "astroid                       2.14.2\n",
      "astropy                       5.1\n",
      "asttokens                     2.0.5\n",
      "async-timeout                 4.0.2\n",
      "atomicwrites                  1.4.0\n",
      "attrs                         22.1.0\n",
      "Automat                       20.2.0\n",
      "autopep8                      1.6.0\n",
      "Babel                         2.11.0\n",
      "backcall                      0.2.0\n",
      "backports.functools-lru-cache 1.6.4\n",
      "backports.tempfile            1.0\n",
      "backports.weakref             1.0.post1\n",
      "bcrypt                        3.2.0\n",
      "beautifulsoup4                4.12.2\n",
      "binaryornot                   0.4.4\n",
      "black                         0.0\n",
      "bleach                        4.1.0\n",
      "bokeh                         3.2.1\n",
      "boltons                       23.0.0\n",
      "botocore                      1.29.76\n",
      "Bottleneck                    1.3.5\n",
      "brotlipy                      0.7.0\n",
      "camelcase                     0.2\n",
      "certifi                       2023.7.22\n",
      "cffi                          1.15.1\n",
      "chardet                       4.0.0\n",
      "charset-normalizer            2.0.4\n",
      "click                         8.0.4\n",
      "cloudpickle                   2.2.1\n",
      "clyent                        1.2.2\n",
      "colorama                      0.4.6\n",
      "colorcet                      3.0.1\n",
      "comm                          0.1.2\n",
      "conda                         23.7.4\n",
      "conda-build                   3.26.1\n",
      "conda-content-trust           0.2.0\n",
      "conda_index                   0.3.0\n",
      "conda-libmamba-solver         23.7.0\n",
      "conda-pack                    0.6.0\n",
      "conda-package-handling        2.2.0\n",
      "conda_package_streaming       0.9.0\n",
      "conda-repo-cli                1.0.75\n",
      "conda-token                   0.4.0\n",
      "conda-verify                  3.4.2\n",
      "constantly                    15.1.0\n",
      "contourpy                     1.0.5\n",
      "cookiecutter                  1.7.3\n",
      "cryptography                  41.0.3\n",
      "cssselect                     1.1.0\n",
      "cycler                        0.11.0\n",
      "cytoolz                       0.12.0\n",
      "daal4py                       2023.1.1\n",
      "dask                          2023.6.0\n",
      "datasets                      2.12.0\n",
      "datashader                    0.15.2\n",
      "datashape                     0.5.4\n",
      "debugpy                       1.6.7\n",
      "decorator                     5.1.1\n",
      "defusedxml                    0.7.1\n",
      "diff-match-patch              20200713\n",
      "dill                          0.3.6\n",
      "distributed                   2023.6.0\n",
      "docstring-to-markdown         0.11\n",
      "docutils                      0.18.1\n",
      "entrypoints                   0.4\n",
      "et-xmlfile                    1.1.0\n",
      "executing                     0.8.3\n",
      "fastjsonschema                2.16.2\n",
      "filelock                      3.9.0\n",
      "flake8                        6.0.0\n",
      "Flask                         2.2.2\n",
      "fonttools                     4.25.0\n",
      "frozenlist                    1.3.3\n",
      "fsspec                        2023.4.0\n",
      "future                        0.18.3\n",
      "gensim                        4.3.0\n",
      "glob2                         0.7\n",
      "greenlet                      2.0.1\n",
      "h5py                          3.9.0\n",
      "HeapDict                      1.0.1\n",
      "holoviews                     1.17.1\n",
      "huggingface-hub               0.15.1\n",
      "hvplot                        0.8.4\n",
      "hyperlink                     21.0.0\n",
      "idna                          3.4\n",
      "imagecodecs                   2023.1.23\n",
      "imageio                       2.26.0\n",
      "imagesize                     1.4.1\n",
      "imbalanced-learn              0.10.1\n",
      "importlib-metadata            6.0.0\n",
      "incremental                   21.3.0\n",
      "inflection                    0.5.1\n",
      "iniconfig                     1.1.1\n",
      "intake                        0.6.8\n",
      "intervaltree                  3.1.0\n",
      "ipykernel                     6.25.0\n",
      "ipython                       8.15.0\n",
      "ipython-genutils              0.2.0\n",
      "ipywidgets                    8.0.4\n",
      "isort                         5.9.3\n",
      "itemadapter                   0.3.0\n",
      "itemloaders                   1.0.4\n",
      "itsdangerous                  2.0.1\n",
      "jaraco.classes                3.2.1\n",
      "jedi                          0.18.1\n",
      "jellyfish                     1.0.1\n",
      "Jinja2                        3.1.2\n",
      "jinja2-time                   0.2.0\n",
      "jmespath                      0.10.0\n",
      "joblib                        1.2.0\n",
      "json5                         0.9.6\n",
      "jsonpatch                     1.32\n",
      "jsonpointer                   2.1\n",
      "jsonschema                    4.17.3\n",
      "jupyter                       1.0.0\n",
      "jupyter_client                7.4.9\n",
      "jupyter-console               6.6.3\n",
      "jupyter_core                  5.3.0\n",
      "jupyter-events                0.6.3\n",
      "jupyter-server                1.23.4\n",
      "jupyter_server_fileid         0.9.0\n",
      "jupyter_server_ydoc           0.8.0\n",
      "jupyter-ydoc                  0.2.4\n",
      "jupyterlab                    3.6.3\n",
      "jupyterlab-pygments           0.1.2\n",
      "jupyterlab_server             2.22.0\n",
      "jupyterlab-widgets            3.0.5\n",
      "kaleido                       0.2.1\n",
      "keyring                       23.13.1\n",
      "kiwisolver                    1.4.4\n",
      "lazy_loader                   0.2\n",
      "lazy-object-proxy             1.6.0\n",
      "libarchive-c                  2.9\n",
      "libmambapy                    1.5.1\n",
      "linkify-it-py                 2.0.0\n",
      "llvmlite                      0.40.0\n",
      "lmdb                          1.4.1\n",
      "locket                        1.0.0\n",
      "lxml                          4.9.3\n",
      "lz4                           4.3.2\n",
      "Markdown                      3.4.1\n",
      "markdown-it-py                2.2.0\n",
      "MarkupSafe                    2.1.1\n",
      "matplotlib                    3.7.2\n",
      "matplotlib-inline             0.1.6\n",
      "mccabe                        0.7.0\n",
      "mdit-py-plugins               0.3.0\n",
      "mdurl                         0.1.0\n",
      "menuinst                      1.4.19\n",
      "mistune                       0.8.4\n",
      "mkl-fft                       1.3.8\n",
      "mkl-random                    1.2.4\n",
      "mkl-service                   2.4.0\n",
      "more-itertools                8.12.0\n",
      "mpmath                        1.3.0\n",
      "msgpack                       1.0.3\n",
      "multidict                     6.0.2\n",
      "multipledispatch              0.6.0\n",
      "multiprocess                  0.70.14\n",
      "munkres                       1.1.4\n",
      "mypy-extensions               1.0.0\n",
      "navigator-updater             0.4.0\n",
      "nbclassic                     0.5.5\n",
      "nbclient                      0.5.13\n",
      "nbconvert                     6.5.4\n",
      "nbformat                      5.9.2\n",
      "nest-asyncio                  1.5.6\n",
      "networkx                      3.1\n",
      "nltk                          3.8.1\n",
      "notebook                      6.5.4\n",
      "notebook_shim                 0.2.2\n",
      "numba                         0.57.1\n",
      "numexpr                       2.8.4\n",
      "numpy                         1.24.3\n",
      "numpydoc                      1.5.0\n",
      "openpyxl                      3.0.10\n",
      "packaging                     23.1\n",
      "pandas                        2.0.3\n",
      "pandocfilters                 1.5.0\n",
      "panel                         1.2.3\n",
      "param                         1.13.0\n",
      "paramiko                      2.8.1\n",
      "parsel                        1.6.0\n",
      "parso                         0.8.3\n",
      "partd                         1.4.0\n",
      "pathlib                       1.0.1\n",
      "pathspec                      0.10.3\n",
      "patsy                         0.5.3\n",
      "pep8                          1.7.1\n",
      "pexpect                       4.8.0\n",
      "pickleshare                   0.7.5\n",
      "Pillow                        9.4.0\n",
      "pip                           23.2.1\n",
      "pkce                          1.0.3\n",
      "pkginfo                       1.9.6\n",
      "platformdirs                  3.10.0\n",
      "plotly                        5.9.0\n",
      "pluggy                        1.0.0\n",
      "ply                           3.11\n",
      "poyo                          0.5.0\n",
      "prometheus-client             0.14.1\n",
      "prompt-toolkit                3.0.36\n",
      "Protego                       0.1.16\n",
      "psutil                        5.9.0\n",
      "ptyprocess                    0.7.0\n",
      "pure-eval                     0.2.2\n",
      "py-cpuinfo                    8.0.0\n",
      "pyarrow                       11.0.0\n",
      "pyasn1                        0.4.8\n",
      "pyasn1-modules                0.2.8\n",
      "pycodestyle                   2.10.0\n",
      "pycosat                       0.6.4\n",
      "pycparser                     2.21\n",
      "pyct                          0.5.0\n",
      "pycurl                        7.45.2\n",
      "pydantic                      1.10.8\n",
      "PyDispatcher                  2.0.5\n",
      "pydocstyle                    6.3.0\n",
      "pyerfa                        2.0.0\n",
      "pyflakes                      3.0.1\n",
      "Pygments                      2.15.1\n",
      "PyJWT                         2.4.0\n",
      "pylint                        2.16.2\n",
      "pylint-venv                   2.3.0\n",
      "pyls-spyder                   0.4.0\n",
      "PyNaCl                        1.5.0\n",
      "pyodbc                        4.0.34\n",
      "pyOpenSSL                     23.2.0\n",
      "pyparsing                     3.0.9\n",
      "PyQt5                         5.15.7\n",
      "PyQt5-sip                     12.11.0\n",
      "PyQtWebEngine                 5.15.4\n",
      "pyrsistent                    0.18.0\n",
      "PySocks                       1.7.1\n",
      "pytest                        7.4.0\n",
      "python-dateutil               2.8.2\n",
      "python-dotenv                 0.21.0\n",
      "python-json-logger            2.0.7\n",
      "python-lsp-black              1.2.1\n",
      "python-lsp-jsonrpc            1.0.0\n",
      "python-lsp-server             1.7.2\n",
      "python-slugify                5.0.2\n",
      "python-snappy                 0.6.1\n",
      "pytoolconfig                  1.2.5\n",
      "pytz                          2023.3.post1\n",
      "pyviz-comms                   2.3.0\n",
      "PyWavelets                    1.4.1\n",
      "pywin32                       305.1\n",
      "pywin32-ctypes                0.2.0\n",
      "pywinpty                      2.0.10\n",
      "PyYAML                        6.0\n",
      "pyzmq                         23.2.0\n",
      "QDarkStyle                    3.0.2\n",
      "qstylizer                     0.2.2\n",
      "QtAwesome                     1.2.2\n",
      "qtconsole                     5.4.2\n",
      "QtPy                          2.2.0\n",
      "queuelib                      1.5.0\n",
      "regex                         2022.7.9\n",
      "requests                      2.31.0\n",
      "requests-file                 1.5.1\n",
      "requests-toolbelt             1.0.0\n",
      "responses                     0.13.3\n",
      "rfc3339-validator             0.1.4\n",
      "rfc3986-validator             0.1.1\n",
      "rope                          1.7.0\n",
      "Rtree                         1.0.1\n",
      "ruamel.yaml                   0.17.21\n",
      "ruamel-yaml-conda             0.17.21\n",
      "s3fs                          2023.4.0\n",
      "safetensors                   0.3.2\n",
      "scikit-image                  0.20.0\n",
      "scikit-learn                  1.3.0\n",
      "scikit-learn-intelex          20230426.121932\n",
      "scipy                         1.11.1\n",
      "Scrapy                        2.8.0\n",
      "seaborn                       0.12.2\n",
      "Send2Trash                    1.8.0\n",
      "service-identity              18.1.0\n",
      "setuptools                    68.0.0\n",
      "sip                           6.6.2\n",
      "six                           1.16.0\n",
      "smart-open                    5.2.1\n",
      "sniffio                       1.2.0\n",
      "snowballstemmer               2.2.0\n",
      "sortedcontainers              2.4.0\n",
      "soupsieve                     2.4\n",
      "Sphinx                        5.0.2\n",
      "sphinxcontrib-applehelp       1.0.2\n",
      "sphinxcontrib-devhelp         1.0.2\n",
      "sphinxcontrib-htmlhelp        2.0.0\n",
      "sphinxcontrib-jsmath          1.0.1\n",
      "sphinxcontrib-qthelp          1.0.3\n",
      "sphinxcontrib-serializinghtml 1.1.5\n",
      "spyder                        5.4.3\n",
      "spyder-kernels                2.4.4\n",
      "SQLAlchemy                    1.4.39\n",
      "stack-data                    0.2.0\n",
      "statsmodels                   0.14.0\n",
      "sympy                         1.11.1\n",
      "tables                        3.8.0\n",
      "tabulate                      0.8.10\n",
      "TBB                           0.2\n",
      "tblib                         1.7.0\n",
      "tenacity                      8.2.2\n",
      "terminado                     0.17.1\n",
      "text-unidecode                1.3\n",
      "textdistance                  4.2.1\n",
      "threadpoolctl                 2.2.0\n",
      "three-merge                   0.1.1\n",
      "tifffile                      2023.4.12\n",
      "tinycss2                      1.2.1\n",
      "tldextract                    3.2.0\n",
      "tokenizers                    0.13.2\n",
      "toml                          0.10.2\n",
      "tomlkit                       0.11.1\n",
      "toolz                         0.12.0\n",
      "tornado                       6.3.2\n",
      "tqdm                          4.65.0\n",
      "traitlets                     5.7.1\n",
      "transformers                  4.32.1\n",
      "Twisted                       22.10.0\n",
      "twisted-iocpsupport           1.0.2\n",
      "typing_extensions             4.7.1\n",
      "tzdata                        2023.3\n",
      "uc-micro-py                   1.0.1\n",
      "ujson                         5.4.0\n",
      "Unidecode                     1.2.0\n",
      "urllib3                       1.26.16\n",
      "w3lib                         1.21.0\n",
      "watchdog                      2.1.6\n",
      "wcwidth                       0.2.5\n",
      "webencodings                  0.5.1\n",
      "websocket-client              0.58.0\n",
      "Werkzeug                      2.2.3\n",
      "whatthepatch                  1.0.2\n",
      "wheel                         0.38.4\n",
      "widgetsnbextension            4.0.5\n",
      "win-inet-pton                 1.1.0\n",
      "wrapt                         1.14.1\n",
      "xarray                        2023.6.0\n",
      "xlwings                       0.29.1\n",
      "xxhash                        2.0.2\n",
      "xyzservices                   2022.9.0\n",
      "y-py                          0.5.9\n",
      "yapf                          0.31.0\n",
      "yarl                          1.8.1\n",
      "ypy-websocket                 0.8.2\n",
      "zict                          2.2.0\n",
      "zipp                          3.11.0\n",
      "zope.interface                5.4.0\n",
      "zstandard                     0.19.0\n",
      "Note: you may need to restart the kernel to use updated packages.\n"
     ]
    }
   ],
   "source": [
    "pip list"
   ]
  },
  {
   "cell_type": "code",
   "execution_count": 2,
   "id": "59fa2446",
   "metadata": {},
   "outputs": [
    {
     "name": "stdout",
     "output_type": "stream",
     "text": [
      "2.0.3\n"
     ]
    }
   ],
   "source": [
    "import pandas as pd\n",
    "print(pd.__version__)"
   ]
  },
  {
   "cell_type": "markdown",
   "id": "035b823e",
   "metadata": {},
   "source": [
    "## PANDAS"
   ]
  },
  {
   "cell_type": "markdown",
   "id": "4bd7feec",
   "metadata": {},
   "source": [
    "Pandas is a Python library used for working with data sets.\n",
    "\n",
    "It has functions for analyzing, cleaning, exploring, and manipulating data.\n",
    "\n",
    "The name \"Pandas\" has a reference to both \"Panel Data\", and \"Python Data Analysis\" and was created by Wes McKinney in 2008.\n",
    "\n",
    "Data Science: is a branch of computer science where we study how to store, use and analyze data for deriving information from it.\n",
    "\n",
    "Pandas allows us to analyze big data and make conclusions based on statistical theories.\n",
    "Pandas can clean messy data sets, and make them readable and relevant.\n",
    "\n",
    "Relevant data is very important in data science."
   ]
  },
  {
   "cell_type": "code",
   "execution_count": 3,
   "id": "6e709905",
   "metadata": {},
   "outputs": [
    {
     "name": "stdout",
     "output_type": "stream",
     "text": [
      "    names  marks\n",
      "0  Tushar     95\n",
      "1   Saran     89\n",
      "2  Madhan     93\n",
      "3  Sabari     98\n"
     ]
    }
   ],
   "source": [
    "import pandas as pd\n",
    "ds={'names':['Tushar','Saran','Madhan','Sabari'],'marks':[95,89,93,98]} #dataset\n",
    "x=pd.DataFrame(ds)\n",
    "print(x)"
   ]
  },
  {
   "cell_type": "markdown",
   "id": "d1a19ffb",
   "metadata": {},
   "source": [
    "## PANDAS SERIES\n",
    "Its like a 1d array holding data of any type\n",
    "Its like a column in a table\n",
    "Here the indices are used as label.\n",
    "Usually the index starts from 0.\n",
    "Index is used to access specific value from the series"
   ]
  },
  {
   "cell_type": "code",
   "execution_count": 4,
   "id": "de3debe9",
   "metadata": {},
   "outputs": [
    {
     "name": "stdout",
     "output_type": "stream",
     "text": [
      "0    90\n",
      "1    95\n",
      "2    89\n",
      "3    65\n",
      "4    88\n",
      "dtype: int64\n"
     ]
    }
   ],
   "source": [
    "ds=[90,95,89,65,88]\n",
    "df=pd.Series(ds)\n",
    "print(df)"
   ]
  },
  {
   "cell_type": "code",
   "execution_count": 5,
   "id": "aa160e27",
   "metadata": {},
   "outputs": [
    {
     "name": "stdout",
     "output_type": "stream",
     "text": [
      "65\n"
     ]
    }
   ],
   "source": [
    "#To find the 3rd column value\n",
    "print(df[3])"
   ]
  },
  {
   "cell_type": "code",
   "execution_count": 6,
   "id": "03918dad",
   "metadata": {},
   "outputs": [
    {
     "ename": "KeyError",
     "evalue": "'89'",
     "output_type": "error",
     "traceback": [
      "\u001b[1;31m---------------------------------------------------------------------------\u001b[0m",
      "\u001b[1;31mKeyError\u001b[0m                                  Traceback (most recent call last)",
      "Cell \u001b[1;32mIn[6], line 1\u001b[0m\n\u001b[1;32m----> 1\u001b[0m \u001b[38;5;28mprint\u001b[39m(df[\u001b[38;5;124m'\u001b[39m\u001b[38;5;124m89\u001b[39m\u001b[38;5;124m'\u001b[39m])\n",
      "File \u001b[1;32m~\\anaconda3\\Lib\\site-packages\\pandas\\core\\series.py:1007\u001b[0m, in \u001b[0;36mSeries.__getitem__\u001b[1;34m(self, key)\u001b[0m\n\u001b[0;32m   1004\u001b[0m     \u001b[38;5;28;01mreturn\u001b[39;00m \u001b[38;5;28mself\u001b[39m\u001b[38;5;241m.\u001b[39m_values[key]\n\u001b[0;32m   1006\u001b[0m \u001b[38;5;28;01melif\u001b[39;00m key_is_scalar:\n\u001b[1;32m-> 1007\u001b[0m     \u001b[38;5;28;01mreturn\u001b[39;00m \u001b[38;5;28mself\u001b[39m\u001b[38;5;241m.\u001b[39m_get_value(key)\n\u001b[0;32m   1009\u001b[0m \u001b[38;5;28;01mif\u001b[39;00m is_hashable(key):\n\u001b[0;32m   1010\u001b[0m     \u001b[38;5;66;03m# Otherwise index.get_value will raise InvalidIndexError\u001b[39;00m\n\u001b[0;32m   1011\u001b[0m     \u001b[38;5;28;01mtry\u001b[39;00m:\n\u001b[0;32m   1012\u001b[0m         \u001b[38;5;66;03m# For labels that don't resolve as scalars like tuples and frozensets\u001b[39;00m\n",
      "File \u001b[1;32m~\\anaconda3\\Lib\\site-packages\\pandas\\core\\series.py:1116\u001b[0m, in \u001b[0;36mSeries._get_value\u001b[1;34m(self, label, takeable)\u001b[0m\n\u001b[0;32m   1113\u001b[0m     \u001b[38;5;28;01mreturn\u001b[39;00m \u001b[38;5;28mself\u001b[39m\u001b[38;5;241m.\u001b[39m_values[label]\n\u001b[0;32m   1115\u001b[0m \u001b[38;5;66;03m# Similar to Index.get_value, but we do not fall back to positional\u001b[39;00m\n\u001b[1;32m-> 1116\u001b[0m loc \u001b[38;5;241m=\u001b[39m \u001b[38;5;28mself\u001b[39m\u001b[38;5;241m.\u001b[39mindex\u001b[38;5;241m.\u001b[39mget_loc(label)\n\u001b[0;32m   1118\u001b[0m \u001b[38;5;28;01mif\u001b[39;00m is_integer(loc):\n\u001b[0;32m   1119\u001b[0m     \u001b[38;5;28;01mreturn\u001b[39;00m \u001b[38;5;28mself\u001b[39m\u001b[38;5;241m.\u001b[39m_values[loc]\n",
      "File \u001b[1;32m~\\anaconda3\\Lib\\site-packages\\pandas\\core\\indexes\\range.py:349\u001b[0m, in \u001b[0;36mRangeIndex.get_loc\u001b[1;34m(self, key)\u001b[0m\n\u001b[0;32m    347\u001b[0m         \u001b[38;5;28;01mraise\u001b[39;00m \u001b[38;5;167;01mKeyError\u001b[39;00m(key) \u001b[38;5;28;01mfrom\u001b[39;00m \u001b[38;5;21;01merr\u001b[39;00m\n\u001b[0;32m    348\u001b[0m \u001b[38;5;28;01mif\u001b[39;00m \u001b[38;5;28misinstance\u001b[39m(key, Hashable):\n\u001b[1;32m--> 349\u001b[0m     \u001b[38;5;28;01mraise\u001b[39;00m \u001b[38;5;167;01mKeyError\u001b[39;00m(key)\n\u001b[0;32m    350\u001b[0m \u001b[38;5;28mself\u001b[39m\u001b[38;5;241m.\u001b[39m_check_indexing_error(key)\n\u001b[0;32m    351\u001b[0m \u001b[38;5;28;01mraise\u001b[39;00m \u001b[38;5;167;01mKeyError\u001b[39;00m(key)\n",
      "\u001b[1;31mKeyError\u001b[0m: '89'"
     ]
    }
   ],
   "source": [
    "print(df['89']) #access the values only by index and not by the value"
   ]
  },
  {
   "cell_type": "code",
   "execution_count": 10,
   "id": "424e028b",
   "metadata": {},
   "outputs": [
    {
     "name": "stdout",
     "output_type": "stream",
     "text": [
      "T     90\n",
      "E     95\n",
      "M     89\n",
      "S     65\n",
      "SS    88\n",
      "dtype: int64\n",
      "95\n",
      "95\n"
     ]
    }
   ],
   "source": [
    "ds=[90,95,89,65,88]\n",
    "df=pd.Series(ds,index=['T','E','M','S','SS'])\n",
    "print(df)\n",
    "# printing the marks based on numeric and alpha index\n",
    "print(df['E'])\n",
    "print(df[1])"
   ]
  },
  {
   "cell_type": "markdown",
   "id": "0e8bc7df",
   "metadata": {},
   "source": [
    "## DATAFRAME\n",
    "It is a multidimensional table in which each column is a series."
   ]
  },
  {
   "cell_type": "code",
   "execution_count": 13,
   "id": "ba7fecf6",
   "metadata": {},
   "outputs": [
    {
     "name": "stdout",
     "output_type": "stream",
     "text": [
      "90\n"
     ]
    }
   ],
   "source": [
    "# loc - location refering the particular row\n",
    "ds=[90,95,89,65,88]\n",
    "df=pd.Series(ds,index=['T','E','M','S','SS'])\n",
    "print(df.loc['T'])"
   ]
  },
  {
   "cell_type": "code",
   "execution_count": 14,
   "id": "9f728004",
   "metadata": {},
   "outputs": [
    {
     "name": "stdout",
     "output_type": "stream",
     "text": [
      "T    90\n",
      "E    95\n",
      "dtype: int64\n"
     ]
    }
   ],
   "source": [
    "print(df.loc[['T','E']])"
   ]
  },
  {
   "cell_type": "code",
   "execution_count": 16,
   "id": "140d6e8b",
   "metadata": {},
   "outputs": [
    {
     "name": "stdout",
     "output_type": "stream",
     "text": [
      "     model-1  model-2  model-3\n",
      "CD        90       95       89\n",
      "DSA       86       89       95\n",
      "DS        98       93       79\n",
      "MC       100       98       90\n",
      "PE        87       79      100\n",
      "HM        80       90       67\n"
     ]
    }
   ],
   "source": [
    "ds={'model-1':[90,86,98,100,87,80],'model-2':[95,89,93,98,79,90],'model-3':[89,95,79,90,100,67]}\n",
    "df=pd.DataFrame(ds,index=['CD','DSA','DS','MC','PE','HM'])\n",
    "print(df)"
   ]
  },
  {
   "cell_type": "code",
   "execution_count": 17,
   "id": "608fd51b",
   "metadata": {
    "scrolled": true
   },
   "outputs": [
    {
     "name": "stdout",
     "output_type": "stream",
     "text": [
      "       Tam  Eng  Mat\n",
      "Test1   90   95   89\n",
      "Test2   86   89   95\n",
      "Test3   98   93   79\n",
      "Test4  100   98   90\n",
      "Test5   87   79  100\n"
     ]
    }
   ],
   "source": [
    "ds={'Tam':[90,86,98,100,87],'Eng':[95,89,93,98,79],'Mat':[89,95,79,90,100]}\n",
    "df=pd.DataFrame(ds,index=['Test1','Test2','Test3','Test4','Test5'])\n",
    "print(df)"
   ]
  },
  {
   "cell_type": "code",
   "execution_count": 18,
   "id": "fd4e46a9",
   "metadata": {},
   "outputs": [
    {
     "name": "stdout",
     "output_type": "stream",
     "text": [
      "     model-1  model-2  model-3\n",
      "CD        90       95       89\n",
      "DSA       86       89       95\n",
      "DS        98       93       79\n",
      "MC       100       98       90\n",
      "PE        87       79      100\n",
      "HM        80       90       67\n",
      "model-1    90\n",
      "model-2    95\n",
      "model-3    89\n",
      "Name: CD, dtype: int64\n"
     ]
    }
   ],
   "source": [
    "ds={'model-1':[90,86,98,100,87,80],'model-2':[95,89,93,98,79,90],'model-3':[89,95,79,90,100,67]}\n",
    "df=pd.DataFrame(ds,index=['CD','DSA','DS','MC','PE','HM'])\n",
    "print(df)\n",
    "print(df.loc['CD'])"
   ]
  },
  {
   "cell_type": "code",
   "execution_count": 23,
   "id": "d6d71076",
   "metadata": {},
   "outputs": [
    {
     "name": "stdout",
     "output_type": "stream",
     "text": [
      "  Unnamed: 0  MODEL 1  MODEL 2  MODEL 3\n",
      "0         CD       78       91       79\n",
      "1         MC       67       83       90\n",
      "2        DSA       99       87       80\n",
      "3         DS       89       68       70\n",
      "4         HM       69       78       92\n",
      "5         PE       98       88      100\n"
     ]
    }
   ],
   "source": [
    "df=pd.read_csv('C:/Users/Admin/Documents/data1.csv')\n",
    "print(df)\n",
    "    "
   ]
  },
  {
   "cell_type": "code",
   "execution_count": 33,
   "id": "057d2ae9",
   "metadata": {},
   "outputs": [
    {
     "name": "stdout",
     "output_type": "stream",
     "text": [
      "    S.NO First Name    Last Name                 City\n",
      "0      1     Sheryl       Baxter         East Leonard\n",
      "1      2    Preston       Lozano    East Jimmychester\n",
      "2      3        Roy        Berry        Isabelborough\n",
      "3      4      Linda        Olsen           Bensonview\n",
      "4      5     Joanna       Bender       West Priscilla\n",
      "5      6      Aimee        Downs        Chavezborough\n",
      "6      7     Darren         Peck             Lake Ana\n",
      "7      8      Brett       Mullen              Kimport\n",
      "8      9     Sheryl       Meyers         Robersonstad\n",
      "9     10   Michelle    Gallagher           Elaineberg\n",
      "10    11       Carl    Schroeder         Shannonville\n",
      "11    12      Jenna       Dodson          East Andrea\n",
      "12    13     Tracey         Mata    South Joannamouth\n",
      "13    14   Kristine          Cox             Jodyberg\n",
      "14    15      Faith         Lutz            Burchbury\n",
      "15    16    Miranda      Beasley         Desireeshire\n",
      "16    17   Caroline        Foley    West Adriennestad\n",
      "17    18       Greg         Mata          Lake Leslie\n",
      "18    19   Clifford     Jacobson           Harmonview\n",
      "19    20     Joanna         Kirk           Jamesshire\n",
      "20    21    Maxwell         Frye           East Carly\n",
      "21    22      Kiara      Houston          South Alvin\n",
      "22    23    Colleen       Howard         Brittanyview\n",
      "23    24      Janet   Valenzuela        Veronicamouth\n",
      "24    25      Shane       Wilcox           Bryanville\n",
      "25    26     Marcus        Moody          Kaitlyntown\n",
      "26    27     Dakota        Poole         Michealshire\n",
      "27    28  Frederick       Harper    South Marissatown\n",
      "28    29   Stefanie  Fitzpatrick         Acevedoville\n",
      "29    30       Kent     Bradshaw         North Harold\n",
      "30    31       Jack         Tate          West Samuel\n",
      "31    32        Tom     Trujillo    Cunninghamborough\n",
      "32    33    Gabriel        Mejia        Port Annatown\n",
      "33    34    Kaitlyn      Santana          New Kaitlyn\n",
      "34    35      Faith         Moon     West Marthaburgh\n",
      "35    36     Tammie        Haley          East Teresa\n",
      "36    37   Nicholas         Sosa         South Hunter\n",
      "37    38     Jordan          Gay         South Walter\n",
      "38    39      Bruce      Esparza            Poolefurt\n",
      "39    40     Sherry        Garza            West John\n",
      "40    41    Natalie       Gentry          West Darius\n",
      "41    42      Bryan         Dunn        North Jimstad\n",
      "42    43      Wayne      Simpson  East Rebekahborough\n",
      "43    44       Luis        Greer           North Drew\n",
      "44    45     Rhonda        Frost      Lake Lindaburgh\n",
      "45    46     Joanne       Montes        Gwendolynview\n",
      "46    47   Geoffrey       Guzman        Zimmermanland\n",
      "47    48     Gloria       Mccall       North Kerriton\n",
      "48    49      Brady        Cohen    North Eileenville\n",
      "49    50     Latoya       Mccann      Port Sergiofort\n"
     ]
    }
   ],
   "source": [
    "df=pd.read_csv('C:/Users/Admin/Downloads/customer-data.csv')\n",
    "print(df)"
   ]
  },
  {
   "cell_type": "code",
   "execution_count": 32,
   "id": "e8e779c8",
   "metadata": {},
   "outputs": [
    {
     "name": "stdout",
     "output_type": "stream",
     "text": [
      "    S.NO First Name    Last Name                 City\n",
      "0      1     Sheryl       Baxter         East Leonard\n",
      "1      2    Preston       Lozano    East Jimmychester\n",
      "2      3        Roy        Berry        Isabelborough\n",
      "3      4      Linda        Olsen           Bensonview\n",
      "4      5     Joanna       Bender       West Priscilla\n",
      "5      6      Aimee        Downs        Chavezborough\n",
      "6      7     Darren         Peck             Lake Ana\n",
      "7      8      Brett       Mullen              Kimport\n",
      "8      9     Sheryl       Meyers         Robersonstad\n",
      "9     10   Michelle    Gallagher           Elaineberg\n",
      "10    11       Carl    Schroeder         Shannonville\n",
      "11    12      Jenna       Dodson          East Andrea\n",
      "12    13     Tracey         Mata    South Joannamouth\n",
      "13    14   Kristine          Cox             Jodyberg\n",
      "14    15      Faith         Lutz            Burchbury\n",
      "15    16    Miranda      Beasley         Desireeshire\n",
      "16    17   Caroline        Foley    West Adriennestad\n",
      "17    18       Greg         Mata          Lake Leslie\n",
      "18    19   Clifford     Jacobson           Harmonview\n",
      "19    20     Joanna         Kirk           Jamesshire\n",
      "20    21    Maxwell         Frye           East Carly\n",
      "21    22      Kiara      Houston          South Alvin\n",
      "22    23    Colleen       Howard         Brittanyview\n",
      "23    24      Janet   Valenzuela        Veronicamouth\n",
      "24    25      Shane       Wilcox           Bryanville\n",
      "25    26     Marcus        Moody          Kaitlyntown\n",
      "26    27     Dakota        Poole         Michealshire\n",
      "27    28  Frederick       Harper    South Marissatown\n",
      "28    29   Stefanie  Fitzpatrick         Acevedoville\n",
      "29    30       Kent     Bradshaw         North Harold\n",
      "30    31       Jack         Tate          West Samuel\n",
      "31    32        Tom     Trujillo    Cunninghamborough\n",
      "32    33    Gabriel        Mejia        Port Annatown\n",
      "33    34    Kaitlyn      Santana          New Kaitlyn\n",
      "34    35      Faith         Moon     West Marthaburgh\n",
      "35    36     Tammie        Haley          East Teresa\n",
      "36    37   Nicholas         Sosa         South Hunter\n",
      "37    38     Jordan          Gay         South Walter\n",
      "38    39      Bruce      Esparza            Poolefurt\n",
      "39    40     Sherry        Garza            West John\n",
      "40    41    Natalie       Gentry          West Darius\n",
      "41    42      Bryan         Dunn        North Jimstad\n",
      "42    43      Wayne      Simpson  East Rebekahborough\n",
      "43    44       Luis        Greer           North Drew\n",
      "44    45     Rhonda        Frost      Lake Lindaburgh\n",
      "45    46     Joanne       Montes        Gwendolynview\n",
      "46    47   Geoffrey       Guzman        Zimmermanland\n",
      "47    48     Gloria       Mccall       North Kerriton\n",
      "48    49      Brady        Cohen    North Eileenville\n",
      "49    50     Latoya       Mccann      Port Sergiofort\n"
     ]
    }
   ],
   "source": [
    "#print all rows of data\n",
    "print(df.to_string())"
   ]
  },
  {
   "cell_type": "code",
   "execution_count": 27,
   "id": "b32839c4",
   "metadata": {},
   "outputs": [
    {
     "name": "stdout",
     "output_type": "stream",
     "text": [
      "9999\n"
     ]
    }
   ],
   "source": [
    "pd.options.display.max_rows=9999\n",
    "print(pd.options.display.max_rows)"
   ]
  },
  {
   "cell_type": "code",
   "execution_count": 31,
   "id": "f67928e8",
   "metadata": {},
   "outputs": [
    {
     "name": "stdout",
     "output_type": "stream",
     "text": [
      "   S.NO First Name  Last Name               City\n",
      "0     1     Sheryl     Baxter       East Leonard\n",
      "1     2    Preston     Lozano  East Jimmychester\n",
      "2     3        Roy      Berry      Isabelborough\n",
      "3     4      Linda      Olsen         Bensonview\n",
      "4     5     Joanna     Bender     West Priscilla\n",
      "5     6      Aimee      Downs      Chavezborough\n",
      "6     7     Darren       Peck           Lake Ana\n",
      "7     8      Brett     Mullen            Kimport\n",
      "8     9     Sheryl     Meyers       Robersonstad\n",
      "9    10   Michelle  Gallagher         Elaineberg\n"
     ]
    }
   ],
   "source": [
    "# No of rows to be displayed from the top of the dataset\n",
    "df=pd.read_csv('C:/Users/Admin/Downloads/customer-data.csv')\n",
    "print(df.head(10))"
   ]
  },
  {
   "cell_type": "code",
   "execution_count": 30,
   "id": "bbd10eb8",
   "metadata": {},
   "outputs": [
    {
     "name": "stdout",
     "output_type": "stream",
     "text": [
      "    S.NO First Name Last Name                 City\n",
      "40    41    Natalie    Gentry          West Darius\n",
      "41    42      Bryan      Dunn        North Jimstad\n",
      "42    43      Wayne   Simpson  East Rebekahborough\n",
      "43    44       Luis     Greer           North Drew\n",
      "44    45     Rhonda     Frost      Lake Lindaburgh\n",
      "45    46     Joanne    Montes        Gwendolynview\n",
      "46    47   Geoffrey    Guzman        Zimmermanland\n",
      "47    48     Gloria    Mccall       North Kerriton\n",
      "48    49      Brady     Cohen    North Eileenville\n",
      "49    50     Latoya    Mccann      Port Sergiofort\n"
     ]
    }
   ],
   "source": [
    "# No of rows to be displayed from the bottom of the dataset\n",
    "df=pd.read_csv('C:/Users/Admin/Downloads/customer-data.csv')\n",
    "print(df.tail(10))"
   ]
  },
  {
   "cell_type": "code",
   "execution_count": 34,
   "id": "0e2ce351",
   "metadata": {},
   "outputs": [
    {
     "name": "stdout",
     "output_type": "stream",
     "text": [
      "<class 'pandas.core.frame.DataFrame'>\n",
      "RangeIndex: 50 entries, 0 to 49\n",
      "Data columns (total 4 columns):\n",
      " #   Column      Non-Null Count  Dtype \n",
      "---  ------      --------------  ----- \n",
      " 0   S.NO        50 non-null     int64 \n",
      " 1   First Name  50 non-null     object\n",
      " 2   Last Name   50 non-null     object\n",
      " 3   City        50 non-null     object\n",
      "dtypes: int64(1), object(3)\n",
      "memory usage: 1.7+ KB\n",
      "None\n"
     ]
    }
   ],
   "source": [
    "print(df.info())"
   ]
  },
  {
   "cell_type": "markdown",
   "id": "8795666b",
   "metadata": {},
   "source": [
    "## Data cleaning\n",
    "\n",
    "It is used to fix bad and irrelevant data in the datasets It removes empty cells,data in wrong format,wrong data,duplicates"
   ]
  },
  {
   "cell_type": "code",
   "execution_count": 36,
   "id": "e18bdff1",
   "metadata": {},
   "outputs": [
    {
     "name": "stdout",
     "output_type": "stream",
     "text": [
      "    S.NO First Name    Last Name                 City\n",
      "0      1     Sheryl       Baxter         East Leonard\n",
      "1      2    Preston       Lozano    East Jimmychester\n",
      "2      3        Roy        Berry        Isabelborough\n",
      "3      4      Linda        Olsen           Bensonview\n",
      "4      5     Joanna       Bender       West Priscilla\n",
      "5      6      Aimee        Downs        Chavezborough\n",
      "6      7     Darren         Peck             Lake Ana\n",
      "7      8      Brett       Mullen              Kimport\n",
      "8      9     Sheryl       Meyers         Robersonstad\n",
      "9     10   Michelle    Gallagher           Elaineberg\n",
      "10    11       Carl    Schroeder         Shannonville\n",
      "11    12      Jenna       Dodson          East Andrea\n",
      "12    13     Tracey         Mata    South Joannamouth\n",
      "13    14   Kristine          Cox             Jodyberg\n",
      "14    15      Faith         Lutz            Burchbury\n",
      "15    16    Miranda      Beasley         Desireeshire\n",
      "16    17   Caroline        Foley    West Adriennestad\n",
      "17    18       Greg         Mata          Lake Leslie\n",
      "18    19   Clifford     Jacobson           Harmonview\n",
      "19    20     Joanna         Kirk           Jamesshire\n",
      "20    21    Maxwell         Frye           East Carly\n",
      "21    22      Kiara      Houston          South Alvin\n",
      "22    23    Colleen       Howard         Brittanyview\n",
      "23    24      Janet   Valenzuela        Veronicamouth\n",
      "24    25      Shane       Wilcox           Bryanville\n",
      "25    26     Marcus        Moody          Kaitlyntown\n",
      "26    27     Dakota        Poole         Michealshire\n",
      "27    28  Frederick       Harper    South Marissatown\n",
      "28    29   Stefanie  Fitzpatrick         Acevedoville\n",
      "29    30       Kent     Bradshaw         North Harold\n",
      "30    31       Jack         Tate          West Samuel\n",
      "31    32        Tom     Trujillo    Cunninghamborough\n",
      "32    33    Gabriel        Mejia        Port Annatown\n",
      "33    34    Kaitlyn      Santana          New Kaitlyn\n",
      "34    35      Faith         Moon     West Marthaburgh\n",
      "35    36     Tammie        Haley          East Teresa\n",
      "36    37   Nicholas         Sosa         South Hunter\n",
      "37    38     Jordan          Gay         South Walter\n",
      "38    39      Bruce      Esparza            Poolefurt\n",
      "39    40     Sherry        Garza            West John\n",
      "40    41    Natalie       Gentry          West Darius\n",
      "41    42      Bryan         Dunn        North Jimstad\n",
      "42    43      Wayne      Simpson  East Rebekahborough\n",
      "43    44       Luis        Greer           North Drew\n",
      "44    45     Rhonda        Frost      Lake Lindaburgh\n",
      "45    46     Joanne       Montes        Gwendolynview\n",
      "46    47   Geoffrey       Guzman        Zimmermanland\n",
      "47    48     Gloria       Mccall       North Kerriton\n",
      "48    49      Brady        Cohen    North Eileenville\n",
      "49    50     Latoya       Mccann      Port Sergiofort\n"
     ]
    }
   ],
   "source": [
    "print(df)"
   ]
  },
  {
   "cell_type": "code",
   "execution_count": 37,
   "id": "5c520a0f",
   "metadata": {},
   "outputs": [
    {
     "name": "stdout",
     "output_type": "stream",
     "text": [
      "    S.NO First Name    Last Name                 City\n",
      "0      1     Sheryl       Baxter         East Leonard\n",
      "1      2    Preston       Lozano    East Jimmychester\n",
      "2      3        Roy        Berry        Isabelborough\n",
      "3      4      Linda        Olsen           Bensonview\n",
      "4      5     Joanna       Bender       West Priscilla\n",
      "5      6      Aimee        Downs        Chavezborough\n",
      "6      7     Darren         Peck             Lake Ana\n",
      "7      8      Brett       Mullen              Kimport\n",
      "8      9     Sheryl       Meyers         Robersonstad\n",
      "9     10   Michelle    Gallagher           Elaineberg\n",
      "10    11       Carl    Schroeder         Shannonville\n",
      "11    12      Jenna       Dodson          East Andrea\n",
      "12    13     Tracey         Mata    South Joannamouth\n",
      "13    14   Kristine          Cox             Jodyberg\n",
      "14    15      Faith         Lutz            Burchbury\n",
      "15    16    Miranda      Beasley         Desireeshire\n",
      "16    17   Caroline        Foley    West Adriennestad\n",
      "17    18       Greg         Mata          Lake Leslie\n",
      "18    19   Clifford     Jacobson           Harmonview\n",
      "19    20     Joanna         Kirk           Jamesshire\n",
      "20    21    Maxwell          NaN           East Carly\n",
      "21    22      Kiara      Houston          South Alvin\n",
      "22    23    Colleen       Howard         Brittanyview\n",
      "23    24      Janet   Valenzuela        Veronicamouth\n",
      "24    25      Shane       Wilcox           Bryanville\n",
      "25    26     Marcus        Moody          Kaitlyntown\n",
      "26    27     Dakota        Poole         Michealshire\n",
      "27    28  Frederick       Harper    South Marissatown\n",
      "28    29   Stefanie  Fitzpatrick         Acevedoville\n",
      "29    30       Kent     Bradshaw         North Harold\n",
      "30    31       Jack         Tate          West Samuel\n",
      "31    32        Tom     Trujillo    Cunninghamborough\n",
      "32    33    Gabriel        Mejia                  NaN\n",
      "33    34    Kaitlyn      Santana          New Kaitlyn\n",
      "34    35      Faith         Moon     West Marthaburgh\n",
      "35    36     Tammie        Haley          East Teresa\n",
      "36    37   Nicholas         Sosa         South Hunter\n",
      "37    38     Jordan          Gay         South Walter\n",
      "38    39      Bruce      Esparza            Poolefurt\n",
      "39    40     Sherry        Garza            West John\n",
      "40    41    Natalie       Gentry          West Darius\n",
      "41    42      Bryan         Dunn        North Jimstad\n",
      "42    43      Wayne      Simpson  East Rebekahborough\n",
      "43    44       Luis        Greer           North Drew\n",
      "44    45     Rhonda        Frost      Lake Lindaburgh\n",
      "45    46     Joanne       Montes        Gwendolynview\n",
      "46    47   Geoffrey       Guzman        Zimmermanland\n",
      "47    48     Gloria       Mccall       North Kerriton\n",
      "48    49      Brady        Cohen    North Eileenville\n",
      "49    50        NaN       Mccann      Port Sergiofort\n"
     ]
    }
   ],
   "source": [
    "df=pd.read_csv('C:/Users/Admin/Downloads/customer-data.csv')\n",
    "print(df)"
   ]
  },
  {
   "cell_type": "code",
   "execution_count": 38,
   "id": "efc18a5e",
   "metadata": {},
   "outputs": [
    {
     "name": "stdout",
     "output_type": "stream",
     "text": [
      "<class 'pandas.core.frame.DataFrame'>\n",
      "RangeIndex: 50 entries, 0 to 49\n",
      "Data columns (total 4 columns):\n",
      " #   Column      Non-Null Count  Dtype \n",
      "---  ------      --------------  ----- \n",
      " 0   S.NO        50 non-null     int64 \n",
      " 1   First Name  49 non-null     object\n",
      " 2   Last Name   49 non-null     object\n",
      " 3   City        49 non-null     object\n",
      "dtypes: int64(1), object(3)\n",
      "memory usage: 1.7+ KB\n",
      "None\n"
     ]
    }
   ],
   "source": [
    "print(df.info())"
   ]
  },
  {
   "cell_type": "code",
   "execution_count": 39,
   "id": "240a230b",
   "metadata": {},
   "outputs": [
    {
     "name": "stdout",
     "output_type": "stream",
     "text": [
      "    S.NO First Name    Last Name                 City\n",
      "0      1     Sheryl       Baxter         East Leonard\n",
      "1      2    Preston       Lozano    East Jimmychester\n",
      "2      3        Roy        Berry        Isabelborough\n",
      "3      4      Linda        Olsen           Bensonview\n",
      "4      5     Joanna       Bender       West Priscilla\n",
      "5      6      Aimee        Downs        Chavezborough\n",
      "6      7     Darren         Peck             Lake Ana\n",
      "7      8      Brett       Mullen              Kimport\n",
      "8      9     Sheryl       Meyers         Robersonstad\n",
      "9     10   Michelle    Gallagher           Elaineberg\n",
      "10    11       Carl    Schroeder         Shannonville\n",
      "11    12      Jenna       Dodson          East Andrea\n",
      "12    13     Tracey         Mata    South Joannamouth\n",
      "13    14   Kristine          Cox             Jodyberg\n",
      "14    15      Faith         Lutz            Burchbury\n",
      "15    16    Miranda      Beasley         Desireeshire\n",
      "16    17   Caroline        Foley    West Adriennestad\n",
      "17    18       Greg         Mata          Lake Leslie\n",
      "18    19   Clifford     Jacobson           Harmonview\n",
      "19    20     Joanna         Kirk           Jamesshire\n",
      "21    22      Kiara      Houston          South Alvin\n",
      "22    23    Colleen       Howard         Brittanyview\n",
      "23    24      Janet   Valenzuela        Veronicamouth\n",
      "24    25      Shane       Wilcox           Bryanville\n",
      "25    26     Marcus        Moody          Kaitlyntown\n",
      "26    27     Dakota        Poole         Michealshire\n",
      "27    28  Frederick       Harper    South Marissatown\n",
      "28    29   Stefanie  Fitzpatrick         Acevedoville\n",
      "29    30       Kent     Bradshaw         North Harold\n",
      "30    31       Jack         Tate          West Samuel\n",
      "31    32        Tom     Trujillo    Cunninghamborough\n",
      "33    34    Kaitlyn      Santana          New Kaitlyn\n",
      "34    35      Faith         Moon     West Marthaburgh\n",
      "35    36     Tammie        Haley          East Teresa\n",
      "36    37   Nicholas         Sosa         South Hunter\n",
      "37    38     Jordan          Gay         South Walter\n",
      "38    39      Bruce      Esparza            Poolefurt\n",
      "39    40     Sherry        Garza            West John\n",
      "40    41    Natalie       Gentry          West Darius\n",
      "41    42      Bryan         Dunn        North Jimstad\n",
      "42    43      Wayne      Simpson  East Rebekahborough\n",
      "43    44       Luis        Greer           North Drew\n",
      "44    45     Rhonda        Frost      Lake Lindaburgh\n",
      "45    46     Joanne       Montes        Gwendolynview\n",
      "46    47   Geoffrey       Guzman        Zimmermanland\n",
      "47    48     Gloria       Mccall       North Kerriton\n",
      "48    49      Brady        Cohen    North Eileenville\n"
     ]
    }
   ],
   "source": [
    "# dropna() method removes all the rows which contains NAN as data\n",
    "df1=df.dropna()\n",
    "print(df1.to_string())"
   ]
  },
  {
   "cell_type": "code",
   "execution_count": 52,
   "id": "c51e10ed",
   "metadata": {},
   "outputs": [
    {
     "name": "stdout",
     "output_type": "stream",
     "text": [
      "    S.NO First Name    Last Name                 City\n",
      "0      1     Sheryl       Baxter         East Leonard\n",
      "1      2    Preston       Lozano    East Jimmychester\n",
      "2      3        Roy        Berry        Isabelborough\n",
      "3      4      Linda        Olsen           Bensonview\n",
      "4      5     Joanna       Bender       West Priscilla\n",
      "5      6      Aimee        Downs        Chavezborough\n",
      "6      7     Darren         Peck             Lake Ana\n",
      "7      8      Brett       Mullen              Kimport\n",
      "8      9     Sheryl       Meyers         Robersonstad\n",
      "9     10   Michelle    Gallagher           Elaineberg\n",
      "10    11       Carl    Schroeder         Shannonville\n",
      "11    12      Jenna       Dodson          East Andrea\n",
      "12    13     Tracey         Mata    South Joannamouth\n",
      "13    14   Kristine          Cox             Jodyberg\n",
      "14    15      Faith         Lutz            Burchbury\n",
      "15    16    Miranda      Beasley         Desireeshire\n",
      "16    17   Caroline        Foley    West Adriennestad\n",
      "17    18       Greg         Mata          Lake Leslie\n",
      "18    19   Clifford     Jacobson           Harmonview\n",
      "19    20     Joanna         Kirk           Jamesshire\n",
      "21    22      Kiara      Houston          South Alvin\n",
      "22    23    Colleen       Howard         Brittanyview\n",
      "23    24      Janet   Valenzuela        Veronicamouth\n",
      "24    25      Shane       Wilcox           Bryanville\n",
      "25    26     Marcus        Moody          Kaitlyntown\n",
      "26    27     Dakota        Poole         Michealshire\n",
      "27    28  Frederick       Harper    South Marissatown\n",
      "28    29   Stefanie  Fitzpatrick         Acevedoville\n",
      "29    30       Kent     Bradshaw         North Harold\n",
      "30    31       Jack         Tate          West Samuel\n",
      "31    32        Tom     Trujillo    Cunninghamborough\n",
      "33    34    Kaitlyn      Santana          New Kaitlyn\n",
      "34    35      Faith         Moon     West Marthaburgh\n",
      "35    36     Tammie        Haley          East Teresa\n",
      "36    37   Nicholas         Sosa         South Hunter\n",
      "37    38     Jordan          Gay         South Walter\n",
      "38    39      Bruce      Esparza            Poolefurt\n",
      "39    40     Sherry        Garza            West John\n",
      "40    41    Natalie       Gentry          West Darius\n",
      "41    42      Bryan         Dunn        North Jimstad\n",
      "42    43      Wayne      Simpson  East Rebekahborough\n",
      "43    44       Luis        Greer           North Drew\n",
      "44    45     Rhonda        Frost      Lake Lindaburgh\n",
      "45    46     Joanne       Montes        Gwendolynview\n",
      "46    47   Geoffrey       Guzman        Zimmermanland\n",
      "47    48     Gloria       Mccall       North Kerriton\n",
      "48    49      Brady        Cohen    North Eileenville\n"
     ]
    }
   ],
   "source": [
    "# specified value\n",
    "df.dropna(inplace=True)\n",
    "df.fillna(10,inplace=True)\n",
    "df[\"Last Name\"].fillna(10,inplace=True)\n",
    "# x=df[\"SepalLengthCm\"].median()\n",
    "# z=df[\"PetalLengthCm\"].mode().[0]\n",
    "print(df)"
   ]
  },
  {
   "cell_type": "code",
   "execution_count": null,
   "id": "e155d962",
   "metadata": {},
   "outputs": [],
   "source": [
    "df['header']=pd.to_integer(df['header'])"
   ]
  },
  {
   "cell_type": "markdown",
   "id": "d1598760",
   "metadata": {},
   "source": [
    "# Fixing wrong data\n",
    "\n",
    "To fix wrong values replace them with correct values\n",
    "set duration to 45 in row 7 which is wrongly typed as 450"
   ]
  },
  {
   "cell_type": "code",
   "execution_count": 53,
   "id": "fb3859ed",
   "metadata": {},
   "outputs": [
    {
     "ename": "SyntaxError",
     "evalue": "invalid syntax (1532063805.py, line 2)",
     "output_type": "error",
     "traceback": [
      "\u001b[1;36m  Cell \u001b[1;32mIn[53], line 2\u001b[1;36m\u001b[0m\n\u001b[1;33m    df.loc[7,\"header\"]=correct value\u001b[0m\n\u001b[1;37m                               ^\u001b[0m\n\u001b[1;31mSyntaxError\u001b[0m\u001b[1;31m:\u001b[0m invalid syntax\n"
     ]
    }
   ],
   "source": [
    "#syntax\n",
    "df.loc[7,\"header\"]=correct value"
   ]
  },
  {
   "cell_type": "code",
   "execution_count": null,
   "id": "7dc6ea87",
   "metadata": {},
   "outputs": [],
   "source": [
    "df.drop(value,inplace=True)\n"
   ]
  },
  {
   "cell_type": "code",
   "execution_count": 54,
   "id": "6d824100",
   "metadata": {},
   "outputs": [
    {
     "name": "stdout",
     "output_type": "stream",
     "text": [
      "0     False\n",
      "1     False\n",
      "2     False\n",
      "3     False\n",
      "4     False\n",
      "5     False\n",
      "6     False\n",
      "7     False\n",
      "8     False\n",
      "9     False\n",
      "10    False\n",
      "11    False\n",
      "12    False\n",
      "13    False\n",
      "14    False\n",
      "15    False\n",
      "16    False\n",
      "17    False\n",
      "18    False\n",
      "19    False\n",
      "21    False\n",
      "22    False\n",
      "23    False\n",
      "24    False\n",
      "25    False\n",
      "26    False\n",
      "27    False\n",
      "28    False\n",
      "29    False\n",
      "30    False\n",
      "31    False\n",
      "33    False\n",
      "34    False\n",
      "35    False\n",
      "36    False\n",
      "37    False\n",
      "38    False\n",
      "39    False\n",
      "40    False\n",
      "41    False\n",
      "42    False\n",
      "43    False\n",
      "44    False\n",
      "45    False\n",
      "46    False\n",
      "47    False\n",
      "48    False\n",
      "dtype: bool\n"
     ]
    }
   ],
   "source": [
    "#Removing duplicates\n",
    "#To discover duplicates,duplicated() method can be used\n",
    "#It returns True or False based on the data\n",
    "print(df.duplicated())"
   ]
  },
  {
   "cell_type": "code",
   "execution_count": 55,
   "id": "b541fac0",
   "metadata": {},
   "outputs": [],
   "source": [
    "df.drop_duplicates(inplace=True)\n"
   ]
  },
  {
   "cell_type": "markdown",
   "id": "1e70920d",
   "metadata": {},
   "source": [
    "# Data Correlations\n",
    "\n",
    "Finding relationships: corr() method is used to find the relationship between each columns.\n",
    "Correlation is a number and it varies from -1 to 1\n",
    "1=perfect relationship\n"
   ]
  },
  {
   "cell_type": "code",
   "execution_count": 56,
   "id": "ecc92ac0",
   "metadata": {},
   "outputs": [
    {
     "ename": "ValueError",
     "evalue": "could not convert string to float: 'Sheryl'",
     "output_type": "error",
     "traceback": [
      "\u001b[1;31m---------------------------------------------------------------------------\u001b[0m",
      "\u001b[1;31mValueError\u001b[0m                                Traceback (most recent call last)",
      "Cell \u001b[1;32mIn[56], line 1\u001b[0m\n\u001b[1;32m----> 1\u001b[0m df\u001b[38;5;241m.\u001b[39mcorr()\n",
      "File \u001b[1;32m~\\anaconda3\\Lib\\site-packages\\pandas\\core\\frame.py:10054\u001b[0m, in \u001b[0;36mDataFrame.corr\u001b[1;34m(self, method, min_periods, numeric_only)\u001b[0m\n\u001b[0;32m  10052\u001b[0m cols \u001b[38;5;241m=\u001b[39m data\u001b[38;5;241m.\u001b[39mcolumns\n\u001b[0;32m  10053\u001b[0m idx \u001b[38;5;241m=\u001b[39m cols\u001b[38;5;241m.\u001b[39mcopy()\n\u001b[1;32m> 10054\u001b[0m mat \u001b[38;5;241m=\u001b[39m data\u001b[38;5;241m.\u001b[39mto_numpy(dtype\u001b[38;5;241m=\u001b[39m\u001b[38;5;28mfloat\u001b[39m, na_value\u001b[38;5;241m=\u001b[39mnp\u001b[38;5;241m.\u001b[39mnan, copy\u001b[38;5;241m=\u001b[39m\u001b[38;5;28;01mFalse\u001b[39;00m)\n\u001b[0;32m  10056\u001b[0m \u001b[38;5;28;01mif\u001b[39;00m method \u001b[38;5;241m==\u001b[39m \u001b[38;5;124m\"\u001b[39m\u001b[38;5;124mpearson\u001b[39m\u001b[38;5;124m\"\u001b[39m:\n\u001b[0;32m  10057\u001b[0m     correl \u001b[38;5;241m=\u001b[39m libalgos\u001b[38;5;241m.\u001b[39mnancorr(mat, minp\u001b[38;5;241m=\u001b[39mmin_periods)\n",
      "File \u001b[1;32m~\\anaconda3\\Lib\\site-packages\\pandas\\core\\frame.py:1838\u001b[0m, in \u001b[0;36mDataFrame.to_numpy\u001b[1;34m(self, dtype, copy, na_value)\u001b[0m\n\u001b[0;32m   1836\u001b[0m \u001b[38;5;28;01mif\u001b[39;00m dtype \u001b[38;5;129;01mis\u001b[39;00m \u001b[38;5;129;01mnot\u001b[39;00m \u001b[38;5;28;01mNone\u001b[39;00m:\n\u001b[0;32m   1837\u001b[0m     dtype \u001b[38;5;241m=\u001b[39m np\u001b[38;5;241m.\u001b[39mdtype(dtype)\n\u001b[1;32m-> 1838\u001b[0m result \u001b[38;5;241m=\u001b[39m \u001b[38;5;28mself\u001b[39m\u001b[38;5;241m.\u001b[39m_mgr\u001b[38;5;241m.\u001b[39mas_array(dtype\u001b[38;5;241m=\u001b[39mdtype, copy\u001b[38;5;241m=\u001b[39mcopy, na_value\u001b[38;5;241m=\u001b[39mna_value)\n\u001b[0;32m   1839\u001b[0m \u001b[38;5;28;01mif\u001b[39;00m result\u001b[38;5;241m.\u001b[39mdtype \u001b[38;5;129;01mis\u001b[39;00m \u001b[38;5;129;01mnot\u001b[39;00m dtype:\n\u001b[0;32m   1840\u001b[0m     result \u001b[38;5;241m=\u001b[39m np\u001b[38;5;241m.\u001b[39marray(result, dtype\u001b[38;5;241m=\u001b[39mdtype, copy\u001b[38;5;241m=\u001b[39m\u001b[38;5;28;01mFalse\u001b[39;00m)\n",
      "File \u001b[1;32m~\\anaconda3\\Lib\\site-packages\\pandas\\core\\internals\\managers.py:1732\u001b[0m, in \u001b[0;36mBlockManager.as_array\u001b[1;34m(self, dtype, copy, na_value)\u001b[0m\n\u001b[0;32m   1730\u001b[0m         arr\u001b[38;5;241m.\u001b[39mflags\u001b[38;5;241m.\u001b[39mwriteable \u001b[38;5;241m=\u001b[39m \u001b[38;5;28;01mFalse\u001b[39;00m\n\u001b[0;32m   1731\u001b[0m \u001b[38;5;28;01melse\u001b[39;00m:\n\u001b[1;32m-> 1732\u001b[0m     arr \u001b[38;5;241m=\u001b[39m \u001b[38;5;28mself\u001b[39m\u001b[38;5;241m.\u001b[39m_interleave(dtype\u001b[38;5;241m=\u001b[39mdtype, na_value\u001b[38;5;241m=\u001b[39mna_value)\n\u001b[0;32m   1733\u001b[0m     \u001b[38;5;66;03m# The underlying data was copied within _interleave, so no need\u001b[39;00m\n\u001b[0;32m   1734\u001b[0m     \u001b[38;5;66;03m# to further copy if copy=True or setting na_value\u001b[39;00m\n\u001b[0;32m   1736\u001b[0m \u001b[38;5;28;01mif\u001b[39;00m na_value \u001b[38;5;129;01mis\u001b[39;00m \u001b[38;5;129;01mnot\u001b[39;00m lib\u001b[38;5;241m.\u001b[39mno_default:\n",
      "File \u001b[1;32m~\\anaconda3\\Lib\\site-packages\\pandas\\core\\internals\\managers.py:1794\u001b[0m, in \u001b[0;36mBlockManager._interleave\u001b[1;34m(self, dtype, na_value)\u001b[0m\n\u001b[0;32m   1792\u001b[0m     \u001b[38;5;28;01melse\u001b[39;00m:\n\u001b[0;32m   1793\u001b[0m         arr \u001b[38;5;241m=\u001b[39m blk\u001b[38;5;241m.\u001b[39mget_values(dtype)\n\u001b[1;32m-> 1794\u001b[0m     result[rl\u001b[38;5;241m.\u001b[39mindexer] \u001b[38;5;241m=\u001b[39m arr\n\u001b[0;32m   1795\u001b[0m     itemmask[rl\u001b[38;5;241m.\u001b[39mindexer] \u001b[38;5;241m=\u001b[39m \u001b[38;5;241m1\u001b[39m\n\u001b[0;32m   1797\u001b[0m \u001b[38;5;28;01mif\u001b[39;00m \u001b[38;5;129;01mnot\u001b[39;00m itemmask\u001b[38;5;241m.\u001b[39mall():\n",
      "\u001b[1;31mValueError\u001b[0m: could not convert string to float: 'Sheryl'"
     ]
    }
   ],
   "source": [
    "df.corr()\n"
   ]
  },
  {
   "cell_type": "code",
   "execution_count": 59,
   "id": "6de29bf8",
   "metadata": {},
   "outputs": [
    {
     "data": {
      "image/png": "[encoded data removed]",
      "text/plain": [
       "<Figure size 640x480 with 1 Axes>"
      ]
     },
     "metadata": {},
     "output_type": "display_data"
    }
   ],
   "source": [
    "import matplotlib.pyplot as plt\n",
    "df=pd.read_csv('C:/Users/Admin/Downloads/customer-data.csv')\n",
    "df.plot()\n",
    "plt.show()"
   ]
  },
  {
   "cell_type": "code",
   "execution_count": 60,
   "id": "437c1a73",
   "metadata": {
    "scrolled": true
   },
   "outputs": [
    {
     "ename": "NameError",
     "evalue": "name 'plot' is not defined",
     "output_type": "error",
     "traceback": [
      "\u001b[1;31m---------------------------------------------------------------------------\u001b[0m",
      "\u001b[1;31mNameError\u001b[0m                                 Traceback (most recent call last)",
      "Cell \u001b[1;32mIn[60], line 1\u001b[0m\n\u001b[1;32m----> 1\u001b[0m plot(kind\u001b[38;5;241m=\u001b[39mscatter\u001b[38;5;241m/\u001b[39mhist)\n\u001b[0;32m      2\u001b[0m df[header]\u001b[38;5;241m.\u001b[39mplot(kind\u001b[38;5;241m=\u001b[39m\u001b[38;5;124m'\u001b[39m\u001b[38;5;124mhist\u001b[39m\u001b[38;5;124m'\u001b[39m)\n",
      "\u001b[1;31mNameError\u001b[0m: name 'plot' is not defined"
     ]
    }
   ],
   "source": [
    "plot(kind=scatter/hist)\n",
    "df[header].plot(kind='hist')"
   ]
  },
  {
   "cell_type": "code",
   "execution_count": null,
   "id": "f6d0a8d7",
   "metadata": {},
   "outputs": [],
   "source": []
  }
 ],
 "metadata": {
  "kernelspec": {
   "display_name": "Python 3 (ipykernel)",
   "language": "python",
   "name": "python3"
  },
  "language_info": {
   "codemirror_mode": {
    "name": "ipython",
    "version": 3
   },
   "file_extension": ".py",
   "mimetype": "text/x-python",
   "name": "python",
   "nbconvert_exporter": "python",
   "pygments_lexer": "ipython3",
   "version": "3.11.5"
  }
 },
 "nbformat": 4,
 "nbformat_minor": 5
}
