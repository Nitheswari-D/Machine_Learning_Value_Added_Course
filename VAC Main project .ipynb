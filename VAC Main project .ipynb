{
  "metadata": {
    "kernelspec": {
      "language": "python",
      "display_name": "Python 3",
      "name": "python3"
    },
    "language_info": {
      "pygments_lexer": "ipython3",
      "nbconvert_exporter": "python",
      "version": "3.6.4",
      "file_extension": ".py",
      "codemirror_mode": {
        "name": "ipython",
        "version": 3
      },
      "name": "python",
      "mimetype": "text/x-python"
    },
    "colab": {
      "name": "Titanic dataset prediction",
      "provenance": [],
      "include_colab_link": true
    }
  },
  "nbformat_minor": 0,
  "nbformat": 4,
  "cells": [
    {
      "cell_type": "markdown",
      "metadata": {
        "id": "view-in-github",
        "colab_type": "text"
      },
      "source": [
        "<a href=\"https://colab.research.google.com/github/Nitheswari-D/Machine_Learning_Value_Added_Course/blob/main/VAC%20Main%20project%20.ipynb\" target=\"_parent\"><img src=\"https://colab.research.google.com/assets/colab-badge.svg\" alt=\"Open In Colab\"/></a>"
      ]
    },
    {
      "cell_type": "markdown",
      "source": [
        "> # **MACHINE LEARNING FROM DISASTER**"
      ],
      "metadata": {
        "id": "bdyn53Jdy1BD"
      }
    },
    {
      "cell_type": "markdown",
      "source": [
        "**Let's make survival prediction from the titanic dataset.**"
      ],
      "metadata": {
        "id": "TYjxBCv0y1BF"
      }
    },
    {
      "cell_type": "code",
      "source": [
        "#Importing required libraries\n",
        "import pandas as pd\n",
        "import numpy as np\n",
        "import matplotlib.pyplot as plt\n",
        "import seaborn as sns"
      ],
      "metadata": {
        "execution": {
          "iopub.status.busy": "2022-07-15T07:30:23.764387Z",
          "iopub.execute_input": "2022-07-15T07:30:23.766281Z",
          "iopub.status.idle": "2022-07-15T07:30:24.412796Z",
          "shell.execute_reply.started": "2022-07-15T07:30:23.766165Z",
          "shell.execute_reply": "2022-07-15T07:30:24.410854Z"
        },
        "trusted": true,
        "id": "KjmT9Pcky1BG"
      },
      "execution_count": 1,
      "outputs": []
    },
    {
      "cell_type": "code",
      "source": [
        "#Reading datasets\n",
        "#train data and test data\n",
        "train=pd.read_csv('/content/train.csv')\n",
        "test=pd.read_csv('/content/test.csv')"
      ],
      "metadata": {
        "execution": {
          "iopub.status.busy": "2022-07-15T07:30:24.419759Z",
          "iopub.execute_input": "2022-07-15T07:30:24.420636Z",
          "iopub.status.idle": "2022-07-15T07:30:24.439718Z",
          "shell.execute_reply.started": "2022-07-15T07:30:24.420557Z",
          "shell.execute_reply": "2022-07-15T07:30:24.437759Z"
        },
        "trusted": true,
        "id": "xk_xjJBWy1BG"
      },
      "execution_count": 2,
      "outputs": []
    },
    {
      "cell_type": "code",
      "source": [
        "#Viewing data and different features\n",
        "train.head()"
      ],
      "metadata": {
        "execution": {
          "iopub.status.busy": "2022-07-15T07:30:24.441409Z",
          "iopub.execute_input": "2022-07-15T07:30:24.442429Z",
          "iopub.status.idle": "2022-07-15T07:30:24.47035Z",
          "shell.execute_reply.started": "2022-07-15T07:30:24.442372Z",
          "shell.execute_reply": "2022-07-15T07:30:24.468955Z"
        },
        "trusted": true,
        "id": "NsocBHZ5y1BH",
        "outputId": "47f48621-4b78-41bb-e750-1ad028d7caab",
        "colab": {
          "base_uri": "https://localhost:8080/",
          "height": 258
        }
      },
      "execution_count": 3,
      "outputs": [
        {
          "output_type": "execute_result",
          "data": {
            "text/plain": [
              "   PassengerId  Survived  Pclass  \\\n",
              "0            1         0       3   \n",
              "1            2         1       1   \n",
              "2            3         1       3   \n",
              "3            4         1       1   \n",
              "4            5         0       3   \n",
              "\n",
              "                                                Name     Sex   Age  SibSp  \\\n",
              "0                            Braund, Mr. Owen Harris    male  22.0      1   \n",
              "1  Cumings, Mrs. John Bradley (Florence Briggs Th...  female  38.0      1   \n",
              "2                             Heikkinen, Miss. Laina  female  26.0      0   \n",
              "3       Futrelle, Mrs. Jacques Heath (Lily May Peel)  female  35.0      1   \n",
              "4                           Allen, Mr. William Henry    male  35.0      0   \n",
              "\n",
              "   Parch            Ticket     Fare Cabin Embarked  \n",
              "0      0         A/5 21171   7.2500   NaN        S  \n",
              "1      0          PC 17599  71.2833   C85        C  \n",
              "2      0  STON/O2. 3101282   7.9250   NaN        S  \n",
              "3      0            113803  53.1000  C123        S  \n",
              "4      0            373450   8.0500   NaN        S  "
            ],
            "text/html": [
              "\n",
              "  <div id=\"df-dbf801e6-42cc-495b-b5b2-2a28be043a1b\" class=\"colab-df-container\">\n",
              "    <div>\n",
              "<style scoped>\n",
              "    .dataframe tbody tr th:only-of-type {\n",
              "        vertical-align: middle;\n",
              "    }\n",
              "\n",
              "    .dataframe tbody tr th {\n",
              "        vertical-align: top;\n",
              "    }\n",
              "\n",
              "    .dataframe thead th {\n",
              "        text-align: right;\n",
              "    }\n",
              "</style>\n",
              "<table border=\"1\" class=\"dataframe\">\n",
              "  <thead>\n",
              "    <tr style=\"text-align: right;\">\n",
              "      <th></th>\n",
              "      <th>PassengerId</th>\n",
              "      <th>Survived</th>\n",
              "      <th>Pclass</th>\n",
              "      <th>Name</th>\n",
              "      <th>Sex</th>\n",
              "      <th>Age</th>\n",
              "      <th>SibSp</th>\n",
              "      <th>Parch</th>\n",
              "      <th>Ticket</th>\n",
              "      <th>Fare</th>\n",
              "      <th>Cabin</th>\n",
              "      <th>Embarked</th>\n",
              "    </tr>\n",
              "  </thead>\n",
              "  <tbody>\n",
              "    <tr>\n",
              "      <th>0</th>\n",
              "      <td>1</td>\n",
              "      <td>0</td>\n",
              "      <td>3</td>\n",
              "      <td>Braund, Mr. Owen Harris</td>\n",
              "      <td>male</td>\n",
              "      <td>22.0</td>\n",
              "      <td>1</td>\n",
              "      <td>0</td>\n",
              "      <td>A/5 21171</td>\n",
              "      <td>7.2500</td>\n",
              "      <td>NaN</td>\n",
              "      <td>S</td>\n",
              "    </tr>\n",
              "    <tr>\n",
              "      <th>1</th>\n",
              "      <td>2</td>\n",
              "      <td>1</td>\n",
              "      <td>1</td>\n",
              "      <td>Cumings, Mrs. John Bradley (Florence Briggs Th...</td>\n",
              "      <td>female</td>\n",
              "      <td>38.0</td>\n",
              "      <td>1</td>\n",
              "      <td>0</td>\n",
              "      <td>PC 17599</td>\n",
              "      <td>71.2833</td>\n",
              "      <td>C85</td>\n",
              "      <td>C</td>\n",
              "    </tr>\n",
              "    <tr>\n",
              "      <th>2</th>\n",
              "      <td>3</td>\n",
              "      <td>1</td>\n",
              "      <td>3</td>\n",
              "      <td>Heikkinen, Miss. Laina</td>\n",
              "      <td>female</td>\n",
              "      <td>26.0</td>\n",
              "      <td>0</td>\n",
              "      <td>0</td>\n",
              "      <td>STON/O2. 3101282</td>\n",
              "      <td>7.9250</td>\n",
              "      <td>NaN</td>\n",
              "      <td>S</td>\n",
              "    </tr>\n",
              "    <tr>\n",
              "      <th>3</th>\n",
              "      <td>4</td>\n",
              "      <td>1</td>\n",
              "      <td>1</td>\n",
              "      <td>Futrelle, Mrs. Jacques Heath (Lily May Peel)</td>\n",
              "      <td>female</td>\n",
              "      <td>35.0</td>\n",
              "      <td>1</td>\n",
              "      <td>0</td>\n",
              "      <td>113803</td>\n",
              "      <td>53.1000</td>\n",
              "      <td>C123</td>\n",
              "      <td>S</td>\n",
              "    </tr>\n",
              "    <tr>\n",
              "      <th>4</th>\n",
              "      <td>5</td>\n",
              "      <td>0</td>\n",
              "      <td>3</td>\n",
              "      <td>Allen, Mr. William Henry</td>\n",
              "      <td>male</td>\n",
              "      <td>35.0</td>\n",
              "      <td>0</td>\n",
              "      <td>0</td>\n",
              "      <td>373450</td>\n",
              "      <td>8.0500</td>\n",
              "      <td>NaN</td>\n",
              "      <td>S</td>\n",
              "    </tr>\n",
              "  </tbody>\n",
              "</table>\n",
              "</div>\n",
              "    <div class=\"colab-df-buttons\">\n",
              "\n",
              "  <div class=\"colab-df-container\">\n",
              "    <button class=\"colab-df-convert\" onclick=\"convertToInteractive('df-dbf801e6-42cc-495b-b5b2-2a28be043a1b')\"\n",
              "            title=\"Convert this dataframe to an interactive table.\"\n",
              "            style=\"display:none;\">\n",
              "\n",
              "  <svg xmlns=\"http://www.w3.org/2000/svg\" height=\"24px\" viewBox=\"0 -960 960 960\">\n",
              "    <path d=\"M120-120v-720h720v720H120Zm60-500h600v-160H180v160Zm220 220h160v-160H400v160Zm0 220h160v-160H400v160ZM180-400h160v-160H180v160Zm440 0h160v-160H620v160ZM180-180h160v-160H180v160Zm440 0h160v-160H620v160Z\"/>\n",
              "  </svg>\n",
              "    </button>\n",
              "\n",
              "  <style>\n",
              "    .colab-df-container {\n",
              "      display:flex;\n",
              "      gap: 12px;\n",
              "    }\n",
              "\n",
              "    .colab-df-convert {\n",
              "      background-color: #E8F0FE;\n",
              "      border: none;\n",
              "      border-radius: 50%;\n",
              "      cursor: pointer;\n",
              "      display: none;\n",
              "      fill: #1967D2;\n",
              "      height: 32px;\n",
              "      padding: 0 0 0 0;\n",
              "      width: 32px;\n",
              "    }\n",
              "\n",
              "    .colab-df-convert:hover {\n",
              "      background-color: #E2EBFA;\n",
              "      box-shadow: 0px 1px 2px rgba(60, 64, 67, 0.3), 0px 1px 3px 1px rgba(60, 64, 67, 0.15);\n",
              "      fill: #174EA6;\n",
              "    }\n",
              "\n",
              "    .colab-df-buttons div {\n",
              "      margin-bottom: 4px;\n",
              "    }\n",
              "\n",
              "    [theme=dark] .colab-df-convert {\n",
              "      background-color: #3B4455;\n",
              "      fill: #D2E3FC;\n",
              "    }\n",
              "\n",
              "    [theme=dark] .colab-df-convert:hover {\n",
              "      background-color: #434B5C;\n",
              "      box-shadow: 0px 1px 3px 1px rgba(0, 0, 0, 0.15);\n",
              "      filter: drop-shadow(0px 1px 2px rgba(0, 0, 0, 0.3));\n",
              "      fill: #FFFFFF;\n",
              "    }\n",
              "  </style>\n",
              "\n",
              "    <script>\n",
              "      const buttonEl =\n",
              "        document.querySelector('#df-dbf801e6-42cc-495b-b5b2-2a28be043a1b button.colab-df-convert');\n",
              "      buttonEl.style.display =\n",
              "        google.colab.kernel.accessAllowed ? 'block' : 'none';\n",
              "\n",
              "      async function convertToInteractive(key) {\n",
              "        const element = document.querySelector('#df-dbf801e6-42cc-495b-b5b2-2a28be043a1b');\n",
              "        const dataTable =\n",
              "          await google.colab.kernel.invokeFunction('convertToInteractive',\n",
              "                                                    [key], {});\n",
              "        if (!dataTable) return;\n",
              "\n",
              "        const docLinkHtml = 'Like what you see? Visit the ' +\n",
              "          '<a target=\"_blank\" href=https://colab.research.google.com/notebooks/data_table.ipynb>data table notebook</a>'\n",
              "          + ' to learn more about interactive tables.';\n",
              "        element.innerHTML = '';\n",
              "        dataTable['output_type'] = 'display_data';\n",
              "        await google.colab.output.renderOutput(dataTable, element);\n",
              "        const docLink = document.createElement('div');\n",
              "        docLink.innerHTML = docLinkHtml;\n",
              "        element.appendChild(docLink);\n",
              "      }\n",
              "    </script>\n",
              "  </div>\n",
              "\n",
              "\n",
              "<div id=\"df-42279eea-da69-40e6-86c4-48676d5b41fd\">\n",
              "  <button class=\"colab-df-quickchart\" onclick=\"quickchart('df-42279eea-da69-40e6-86c4-48676d5b41fd')\"\n",
              "            title=\"Suggest charts\"\n",
              "            style=\"display:none;\">\n",
              "\n",
              "<svg xmlns=\"http://www.w3.org/2000/svg\" height=\"24px\"viewBox=\"0 0 24 24\"\n",
              "     width=\"24px\">\n",
              "    <g>\n",
              "        <path d=\"M19 3H5c-1.1 0-2 .9-2 2v14c0 1.1.9 2 2 2h14c1.1 0 2-.9 2-2V5c0-1.1-.9-2-2-2zM9 17H7v-7h2v7zm4 0h-2V7h2v10zm4 0h-2v-4h2v4z\"/>\n",
              "    </g>\n",
              "</svg>\n",
              "  </button>\n",
              "\n",
              "<style>\n",
              "  .colab-df-quickchart {\n",
              "      --bg-color: #E8F0FE;\n",
              "      --fill-color: #1967D2;\n",
              "      --hover-bg-color: #E2EBFA;\n",
              "      --hover-fill-color: #174EA6;\n",
              "      --disabled-fill-color: #AAA;\n",
              "      --disabled-bg-color: #DDD;\n",
              "  }\n",
              "\n",
              "  [theme=dark] .colab-df-quickchart {\n",
              "      --bg-color: #3B4455;\n",
              "      --fill-color: #D2E3FC;\n",
              "      --hover-bg-color: #434B5C;\n",
              "      --hover-fill-color: #FFFFFF;\n",
              "      --disabled-bg-color: #3B4455;\n",
              "      --disabled-fill-color: #666;\n",
              "  }\n",
              "\n",
              "  .colab-df-quickchart {\n",
              "    background-color: var(--bg-color);\n",
              "    border: none;\n",
              "    border-radius: 50%;\n",
              "    cursor: pointer;\n",
              "    display: none;\n",
              "    fill: var(--fill-color);\n",
              "    height: 32px;\n",
              "    padding: 0;\n",
              "    width: 32px;\n",
              "  }\n",
              "\n",
              "  .colab-df-quickchart:hover {\n",
              "    background-color: var(--hover-bg-color);\n",
              "    box-shadow: 0 1px 2px rgba(60, 64, 67, 0.3), 0 1px 3px 1px rgba(60, 64, 67, 0.15);\n",
              "    fill: var(--button-hover-fill-color);\n",
              "  }\n",
              "\n",
              "  .colab-df-quickchart-complete:disabled,\n",
              "  .colab-df-quickchart-complete:disabled:hover {\n",
              "    background-color: var(--disabled-bg-color);\n",
              "    fill: var(--disabled-fill-color);\n",
              "    box-shadow: none;\n",
              "  }\n",
              "\n",
              "  .colab-df-spinner {\n",
              "    border: 2px solid var(--fill-color);\n",
              "    border-color: transparent;\n",
              "    border-bottom-color: var(--fill-color);\n",
              "    animation:\n",
              "      spin 1s steps(1) infinite;\n",
              "  }\n",
              "\n",
              "  @keyframes spin {\n",
              "    0% {\n",
              "      border-color: transparent;\n",
              "      border-bottom-color: var(--fill-color);\n",
              "      border-left-color: var(--fill-color);\n",
              "    }\n",
              "    20% {\n",
              "      border-color: transparent;\n",
              "      border-left-color: var(--fill-color);\n",
              "      border-top-color: var(--fill-color);\n",
              "    }\n",
              "    30% {\n",
              "      border-color: transparent;\n",
              "      border-left-color: var(--fill-color);\n",
              "      border-top-color: var(--fill-color);\n",
              "      border-right-color: var(--fill-color);\n",
              "    }\n",
              "    40% {\n",
              "      border-color: transparent;\n",
              "      border-right-color: var(--fill-color);\n",
              "      border-top-color: var(--fill-color);\n",
              "    }\n",
              "    60% {\n",
              "      border-color: transparent;\n",
              "      border-right-color: var(--fill-color);\n",
              "    }\n",
              "    80% {\n",
              "      border-color: transparent;\n",
              "      border-right-color: var(--fill-color);\n",
              "      border-bottom-color: var(--fill-color);\n",
              "    }\n",
              "    90% {\n",
              "      border-color: transparent;\n",
              "      border-bottom-color: var(--fill-color);\n",
              "    }\n",
              "  }\n",
              "</style>\n",
              "\n",
              "  <script>\n",
              "    async function quickchart(key) {\n",
              "      const quickchartButtonEl =\n",
              "        document.querySelector('#' + key + ' button');\n",
              "      quickchartButtonEl.disabled = true;  // To prevent multiple clicks.\n",
              "      quickchartButtonEl.classList.add('colab-df-spinner');\n",
              "      try {\n",
              "        const charts = await google.colab.kernel.invokeFunction(\n",
              "            'suggestCharts', [key], {});\n",
              "      } catch (error) {\n",
              "        console.error('Error during call to suggestCharts:', error);\n",
              "      }\n",
              "      quickchartButtonEl.classList.remove('colab-df-spinner');\n",
              "      quickchartButtonEl.classList.add('colab-df-quickchart-complete');\n",
              "    }\n",
              "    (() => {\n",
              "      let quickchartButtonEl =\n",
              "        document.querySelector('#df-42279eea-da69-40e6-86c4-48676d5b41fd button');\n",
              "      quickchartButtonEl.style.display =\n",
              "        google.colab.kernel.accessAllowed ? 'block' : 'none';\n",
              "    })();\n",
              "  </script>\n",
              "</div>\n",
              "\n",
              "    </div>\n",
              "  </div>\n"
            ],
            "application/vnd.google.colaboratory.intrinsic+json": {
              "type": "dataframe",
              "variable_name": "train",
              "summary": "{\n  \"name\": \"train\",\n  \"rows\": 891,\n  \"fields\": [\n    {\n      \"column\": \"PassengerId\",\n      \"properties\": {\n        \"dtype\": \"number\",\n        \"std\": 257,\n        \"min\": 1,\n        \"max\": 891,\n        \"num_unique_values\": 891,\n        \"samples\": [\n          710,\n          440,\n          841\n        ],\n        \"semantic_type\": \"\",\n        \"description\": \"\"\n      }\n    },\n    {\n      \"column\": \"Survived\",\n      \"properties\": {\n        \"dtype\": \"number\",\n        \"std\": 0,\n        \"min\": 0,\n        \"max\": 1,\n        \"num_unique_values\": 2,\n        \"samples\": [\n          1,\n          0\n        ],\n        \"semantic_type\": \"\",\n        \"description\": \"\"\n      }\n    },\n    {\n      \"column\": \"Pclass\",\n      \"properties\": {\n        \"dtype\": \"number\",\n        \"std\": 0,\n        \"min\": 1,\n        \"max\": 3,\n        \"num_unique_values\": 3,\n        \"samples\": [\n          3,\n          1\n        ],\n        \"semantic_type\": \"\",\n        \"description\": \"\"\n      }\n    },\n    {\n      \"column\": \"Name\",\n      \"properties\": {\n        \"dtype\": \"string\",\n        \"num_unique_values\": 891,\n        \"samples\": [\n          \"Moubarek, Master. Halim Gonios (\\\"William George\\\")\",\n          \"Kvillner, Mr. Johan Henrik Johannesson\"\n        ],\n        \"semantic_type\": \"\",\n        \"description\": \"\"\n      }\n    },\n    {\n      \"column\": \"Sex\",\n      \"properties\": {\n        \"dtype\": \"category\",\n        \"num_unique_values\": 2,\n        \"samples\": [\n          \"female\",\n          \"male\"\n        ],\n        \"semantic_type\": \"\",\n        \"description\": \"\"\n      }\n    },\n    {\n      \"column\": \"Age\",\n      \"properties\": {\n        \"dtype\": \"number\",\n        \"std\": 14.526497332334042,\n        \"min\": 0.42,\n        \"max\": 80.0,\n        \"num_unique_values\": 88,\n        \"samples\": [\n          0.75,\n          22.0\n        ],\n        \"semantic_type\": \"\",\n        \"description\": \"\"\n      }\n    },\n    {\n      \"column\": \"SibSp\",\n      \"properties\": {\n        \"dtype\": \"number\",\n        \"std\": 1,\n        \"min\": 0,\n        \"max\": 8,\n        \"num_unique_values\": 7,\n        \"samples\": [\n          1,\n          0\n        ],\n        \"semantic_type\": \"\",\n        \"description\": \"\"\n      }\n    },\n    {\n      \"column\": \"Parch\",\n      \"properties\": {\n        \"dtype\": \"number\",\n        \"std\": 0,\n        \"min\": 0,\n        \"max\": 6,\n        \"num_unique_values\": 7,\n        \"samples\": [\n          0,\n          1\n        ],\n        \"semantic_type\": \"\",\n        \"description\": \"\"\n      }\n    },\n    {\n      \"column\": \"Ticket\",\n      \"properties\": {\n        \"dtype\": \"string\",\n        \"num_unique_values\": 681,\n        \"samples\": [\n          \"11774\",\n          \"248740\"\n        ],\n        \"semantic_type\": \"\",\n        \"description\": \"\"\n      }\n    },\n    {\n      \"column\": \"Fare\",\n      \"properties\": {\n        \"dtype\": \"number\",\n        \"std\": 49.6934285971809,\n        \"min\": 0.0,\n        \"max\": 512.3292,\n        \"num_unique_values\": 248,\n        \"samples\": [\n          11.2417,\n          51.8625\n        ],\n        \"semantic_type\": \"\",\n        \"description\": \"\"\n      }\n    },\n    {\n      \"column\": \"Cabin\",\n      \"properties\": {\n        \"dtype\": \"category\",\n        \"num_unique_values\": 147,\n        \"samples\": [\n          \"D45\",\n          \"B49\"\n        ],\n        \"semantic_type\": \"\",\n        \"description\": \"\"\n      }\n    },\n    {\n      \"column\": \"Embarked\",\n      \"properties\": {\n        \"dtype\": \"category\",\n        \"num_unique_values\": 3,\n        \"samples\": [\n          \"S\",\n          \"C\"\n        ],\n        \"semantic_type\": \"\",\n        \"description\": \"\"\n      }\n    }\n  ]\n}"
            }
          },
          "metadata": {},
          "execution_count": 3
        }
      ]
    },
    {
      "cell_type": "code",
      "source": [
        "train.shape"
      ],
      "metadata": {
        "execution": {
          "iopub.status.busy": "2022-07-15T07:30:24.47408Z",
          "iopub.execute_input": "2022-07-15T07:30:24.47452Z",
          "iopub.status.idle": "2022-07-15T07:30:24.484531Z",
          "shell.execute_reply.started": "2022-07-15T07:30:24.474485Z",
          "shell.execute_reply": "2022-07-15T07:30:24.48304Z"
        },
        "trusted": true,
        "id": "ChGkgyQty1BH"
      },
      "execution_count": null,
      "outputs": []
    },
    {
      "cell_type": "code",
      "source": [
        "train.columns"
      ],
      "metadata": {
        "execution": {
          "iopub.status.busy": "2022-07-15T07:30:24.486616Z",
          "iopub.execute_input": "2022-07-15T07:30:24.487836Z",
          "iopub.status.idle": "2022-07-15T07:30:24.502223Z",
          "shell.execute_reply.started": "2022-07-15T07:30:24.487774Z",
          "shell.execute_reply": "2022-07-15T07:30:24.500967Z"
        },
        "trusted": true,
        "id": "TotOmcPTy1BH"
      },
      "execution_count": null,
      "outputs": []
    },
    {
      "cell_type": "code",
      "source": [
        "train['Sex'].value_counts()"
      ],
      "metadata": {
        "execution": {
          "iopub.status.busy": "2022-07-15T07:30:24.503768Z",
          "iopub.execute_input": "2022-07-15T07:30:24.504272Z",
          "iopub.status.idle": "2022-07-15T07:30:24.520702Z",
          "shell.execute_reply.started": "2022-07-15T07:30:24.504235Z",
          "shell.execute_reply": "2022-07-15T07:30:24.519355Z"
        },
        "trusted": true,
        "id": "JZDiNUnEy1BI"
      },
      "execution_count": null,
      "outputs": []
    },
    {
      "cell_type": "markdown",
      "source": [
        "# Data Visualization"
      ],
      "metadata": {
        "id": "utzN0BCXy1BI"
      }
    },
    {
      "cell_type": "code",
      "source": [
        "#Visualizing survivals based on gender\n",
        "train['Died'] = 1 - train['Survived']\n",
        "train.groupby('Sex').agg('sum')[['Survived', 'Died']].plot(kind='bar',\n",
        "                                                           figsize=(10, 5),\n",
        "                                                           stacked=True)"
      ],
      "metadata": {
        "execution": {
          "iopub.status.busy": "2022-07-15T07:30:24.522348Z",
          "iopub.execute_input": "2022-07-15T07:30:24.523729Z",
          "iopub.status.idle": "2022-07-15T07:30:24.798373Z",
          "shell.execute_reply.started": "2022-07-15T07:30:24.52365Z",
          "shell.execute_reply": "2022-07-15T07:30:24.796923Z"
        },
        "trusted": true,
        "id": "SpWfqRy4y1BJ"
      },
      "execution_count": null,
      "outputs": []
    },
    {
      "cell_type": "code",
      "source": [
        "##Visualizing survivals based on fare\n",
        "figure = plt.figure(figsize=(16, 7))\n",
        "plt.hist([train[train['Survived'] == 1]['Fare'], train[train['Survived'] == 0]['Fare']],\n",
        "         stacked=True, bins = 50, label = ['Survived','Dead'])\n",
        "plt.xlabel('Fare')\n",
        "plt.ylabel('Number of passengers')\n",
        "plt.legend()"
      ],
      "metadata": {
        "execution": {
          "iopub.status.busy": "2022-07-15T07:30:24.799759Z",
          "iopub.execute_input": "2022-07-15T07:30:24.800446Z",
          "iopub.status.idle": "2022-07-15T07:30:25.315553Z",
          "shell.execute_reply.started": "2022-07-15T07:30:24.800402Z",
          "shell.execute_reply": "2022-07-15T07:30:25.313829Z"
        },
        "trusted": true,
        "id": "X3Mv1pk1y1BJ"
      },
      "execution_count": null,
      "outputs": []
    },
    {
      "cell_type": "markdown",
      "source": [
        "# Processing training data"
      ],
      "metadata": {
        "id": "NodLmpUyy1BJ"
      }
    },
    {
      "cell_type": "code",
      "source": [
        "#Cleaning the data by removing irrelevant columns\n",
        "df1=train.drop(['Name','Ticket','Cabin','PassengerId','Died'], axis=1)\n",
        "df1.head(10)"
      ],
      "metadata": {
        "execution": {
          "iopub.status.busy": "2022-07-15T07:30:25.318039Z",
          "iopub.execute_input": "2022-07-15T07:30:25.31864Z",
          "iopub.status.idle": "2022-07-15T07:30:25.340437Z",
          "shell.execute_reply.started": "2022-07-15T07:30:25.31858Z",
          "shell.execute_reply": "2022-07-15T07:30:25.338676Z"
        },
        "trusted": true,
        "id": "6oKHeAmfy1BJ"
      },
      "execution_count": null,
      "outputs": []
    },
    {
      "cell_type": "code",
      "source": [
        "df1.isnull().sum()"
      ],
      "metadata": {
        "execution": {
          "iopub.status.busy": "2022-07-15T07:30:25.341774Z",
          "iopub.execute_input": "2022-07-15T07:30:25.343098Z",
          "iopub.status.idle": "2022-07-15T07:30:25.36085Z",
          "shell.execute_reply.started": "2022-07-15T07:30:25.343037Z",
          "shell.execute_reply": "2022-07-15T07:30:25.359254Z"
        },
        "trusted": true,
        "id": "7ywhSzIcy1BK"
      },
      "execution_count": null,
      "outputs": []
    },
    {
      "cell_type": "code",
      "source": [
        "#Converting the categorical features 'Sex' and 'Embarked' into numerical values 0 & 1\n",
        "df1.Sex=df1.Sex.map({'female':0, 'male':1})\n",
        "df1.Embarked=df1.Embarked.map({'S':0, 'C':1, 'Q':2,'nan':'NaN'})\n",
        "df1.head()"
      ],
      "metadata": {
        "execution": {
          "iopub.status.busy": "2022-07-15T07:30:25.363024Z",
          "iopub.execute_input": "2022-07-15T07:30:25.363515Z",
          "iopub.status.idle": "2022-07-15T07:30:25.388869Z",
          "shell.execute_reply.started": "2022-07-15T07:30:25.363479Z",
          "shell.execute_reply": "2022-07-15T07:30:25.387724Z"
        },
        "trusted": true,
        "id": "PSLzoXCzy1BK"
      },
      "execution_count": null,
      "outputs": []
    },
    {
      "cell_type": "code",
      "source": [
        "#Mean age of each sex\n",
        "mean_age_men=df1[df1['Sex']==1]['Age'].mean()\n",
        "mean_age_women=df1[df1['Sex']==0]['Age'].mean()"
      ],
      "metadata": {
        "execution": {
          "iopub.status.busy": "2022-07-15T07:30:25.390852Z",
          "iopub.execute_input": "2022-07-15T07:30:25.391432Z",
          "iopub.status.idle": "2022-07-15T07:30:25.406161Z",
          "shell.execute_reply.started": "2022-07-15T07:30:25.391389Z",
          "shell.execute_reply": "2022-07-15T07:30:25.404937Z"
        },
        "trusted": true,
        "id": "ZhMrbeEhy1BK"
      },
      "execution_count": null,
      "outputs": []
    },
    {
      "cell_type": "code",
      "source": [
        "#Filling all the null values in 'Age' with respective mean age\n",
        "df1.loc[(df1.Age.isnull()) & (df1['Sex']==0),'Age']=mean_age_women\n",
        "df1.loc[(df1.Age.isnull()) & (df1['Sex']==1),'Age']=mean_age_men"
      ],
      "metadata": {
        "execution": {
          "iopub.status.busy": "2022-07-15T07:30:25.411871Z",
          "iopub.execute_input": "2022-07-15T07:30:25.412751Z",
          "iopub.status.idle": "2022-07-15T07:30:25.429617Z",
          "shell.execute_reply.started": "2022-07-15T07:30:25.412698Z",
          "shell.execute_reply": "2022-07-15T07:30:25.427718Z"
        },
        "trusted": true,
        "id": "_Ct7Wrr7y1BK"
      },
      "execution_count": null,
      "outputs": []
    },
    {
      "cell_type": "code",
      "source": [
        "#Let's check for the null values again now\n",
        "df1.isnull().sum()"
      ],
      "metadata": {
        "execution": {
          "iopub.status.busy": "2022-07-15T07:30:25.431814Z",
          "iopub.execute_input": "2022-07-15T07:30:25.432212Z",
          "iopub.status.idle": "2022-07-15T07:30:25.457719Z",
          "shell.execute_reply.started": "2022-07-15T07:30:25.43218Z",
          "shell.execute_reply": "2022-07-15T07:30:25.45583Z"
        },
        "trusted": true,
        "id": "S68Q0-H3y1BL"
      },
      "execution_count": null,
      "outputs": []
    },
    {
      "cell_type": "code",
      "source": [
        "#Since there exist 2 null values in the Embarked column, let's drop those rows containing null values\n",
        "df1.dropna(inplace=True)"
      ],
      "metadata": {
        "execution": {
          "iopub.status.busy": "2022-07-15T07:30:25.459511Z",
          "iopub.execute_input": "2022-07-15T07:30:25.46009Z",
          "iopub.status.idle": "2022-07-15T07:30:25.471014Z",
          "shell.execute_reply.started": "2022-07-15T07:30:25.460034Z",
          "shell.execute_reply": "2022-07-15T07:30:25.469185Z"
        },
        "trusted": true,
        "id": "6AkPc3Tay1BL"
      },
      "execution_count": null,
      "outputs": []
    },
    {
      "cell_type": "code",
      "source": [
        "df1.isnull().sum()"
      ],
      "metadata": {
        "execution": {
          "iopub.status.busy": "2022-07-15T07:30:25.472766Z",
          "iopub.execute_input": "2022-07-15T07:30:25.473231Z",
          "iopub.status.idle": "2022-07-15T07:30:25.490945Z",
          "shell.execute_reply.started": "2022-07-15T07:30:25.473195Z",
          "shell.execute_reply": "2022-07-15T07:30:25.489912Z"
        },
        "trusted": true,
        "id": "L39LVf1Ey1BL"
      },
      "execution_count": null,
      "outputs": []
    },
    {
      "cell_type": "code",
      "source": [
        "#Doing Feature Scaling to standardize the independent features present in the data in a fixed range\n",
        "df1.Age = (df1.Age-min(df1.Age))/(max(df1.Age)-min(df1.Age))\n",
        "df1.Fare = (df1.Fare-min(df1.Fare))/(max(df1.Fare)-min(df1.Fare))\n",
        "df1.describe()"
      ],
      "metadata": {
        "execution": {
          "iopub.status.busy": "2022-07-15T07:30:25.492981Z",
          "iopub.execute_input": "2022-07-15T07:30:25.493688Z",
          "iopub.status.idle": "2022-07-15T07:30:25.543073Z",
          "shell.execute_reply.started": "2022-07-15T07:30:25.493648Z",
          "shell.execute_reply": "2022-07-15T07:30:25.541257Z"
        },
        "trusted": true,
        "id": "BXr6p4kpy1BL"
      },
      "execution_count": null,
      "outputs": []
    },
    {
      "cell_type": "markdown",
      "source": [
        "# Creating model"
      ],
      "metadata": {
        "id": "YE7D1aEOy1BL"
      }
    },
    {
      "cell_type": "code",
      "source": [
        "#Splitting the data for training and testing\n",
        "from sklearn.model_selection import train_test_split\n",
        "X_train, X_test, y_train, y_test = train_test_split(\n",
        "    df1.drop(['Survived'], axis=1),\n",
        "    df1.Survived,\n",
        "    test_size= 0.2,\n",
        "    random_state=0,\n",
        "    stratify=df1.Survived)"
      ],
      "metadata": {
        "execution": {
          "iopub.status.busy": "2022-07-15T07:30:25.545383Z",
          "iopub.execute_input": "2022-07-15T07:30:25.545847Z",
          "iopub.status.idle": "2022-07-15T07:30:25.627547Z",
          "shell.execute_reply.started": "2022-07-15T07:30:25.545811Z",
          "shell.execute_reply": "2022-07-15T07:30:25.625856Z"
        },
        "trusted": true,
        "id": "rhN_7k3Yy1BL"
      },
      "execution_count": null,
      "outputs": []
    },
    {
      "cell_type": "markdown",
      "source": [
        "**Logistic Regression**"
      ],
      "metadata": {
        "id": "LWdllyfYy1BM"
      }
    },
    {
      "cell_type": "code",
      "source": [
        "from sklearn.linear_model import LogisticRegression\n",
        "lrmod = LogisticRegression()\n",
        "lrmod.fit(X_train, y_train)\n",
        "from sklearn.metrics import accuracy_score\n",
        "y_predict = lrmod.predict(X_test)\n",
        "accuracy_score(y_test, y_predict)"
      ],
      "metadata": {
        "execution": {
          "iopub.status.busy": "2022-07-15T07:30:25.62966Z",
          "iopub.execute_input": "2022-07-15T07:30:25.630418Z",
          "iopub.status.idle": "2022-07-15T07:30:25.680244Z",
          "shell.execute_reply.started": "2022-07-15T07:30:25.630367Z",
          "shell.execute_reply": "2022-07-15T07:30:25.678889Z"
        },
        "trusted": true,
        "id": "s-ubSgGJy1BM"
      },
      "execution_count": null,
      "outputs": []
    },
    {
      "cell_type": "code",
      "source": [
        "#Confusion Matrix\n",
        "from sklearn.metrics import confusion_matrix\n",
        "cma=confusion_matrix(y_test, y_predict)\n",
        "sns.heatmap(cma,annot=True)"
      ],
      "metadata": {
        "execution": {
          "iopub.status.busy": "2022-07-15T07:30:25.682243Z",
          "iopub.execute_input": "2022-07-15T07:30:25.683116Z",
          "iopub.status.idle": "2022-07-15T07:30:25.911023Z",
          "shell.execute_reply.started": "2022-07-15T07:30:25.683063Z",
          "shell.execute_reply": "2022-07-15T07:30:25.909477Z"
        },
        "trusted": true,
        "id": "oZaPMRGQy1BM"
      },
      "execution_count": null,
      "outputs": []
    },
    {
      "cell_type": "markdown",
      "source": [
        "# Processing test data"
      ],
      "metadata": {
        "id": "1gc_cPovy1BM"
      }
    },
    {
      "cell_type": "code",
      "source": [
        "#Viewing test data\n",
        "test.head()"
      ],
      "metadata": {
        "execution": {
          "iopub.status.busy": "2022-07-15T07:30:25.913921Z",
          "iopub.execute_input": "2022-07-15T07:30:25.915614Z",
          "iopub.status.idle": "2022-07-15T07:30:25.936975Z",
          "shell.execute_reply.started": "2022-07-15T07:30:25.915537Z",
          "shell.execute_reply": "2022-07-15T07:30:25.934677Z"
        },
        "trusted": true,
        "id": "Srs5n5bzy1BM"
      },
      "execution_count": null,
      "outputs": []
    },
    {
      "cell_type": "code",
      "source": [
        "#Cleaning the data by removing irrelevant columns\n",
        "df2=test.drop(['PassengerId','Name','Ticket','Cabin'], axis=1)\n",
        "df2"
      ],
      "metadata": {
        "execution": {
          "iopub.status.busy": "2022-07-15T07:30:25.939025Z",
          "iopub.execute_input": "2022-07-15T07:30:25.939547Z",
          "iopub.status.idle": "2022-07-15T07:30:25.967738Z",
          "shell.execute_reply.started": "2022-07-15T07:30:25.939499Z",
          "shell.execute_reply": "2022-07-15T07:30:25.966668Z"
        },
        "trusted": true,
        "id": "36EdKMSfy1BN"
      },
      "execution_count": null,
      "outputs": []
    },
    {
      "cell_type": "code",
      "source": [
        "#Converting the categorical features 'Sex' and 'Embarked' into numerical values 0 & 1\n",
        "df2.Sex=df2.Sex.map({'female':0, 'male':1})\n",
        "df2.Embarked=df2.Embarked.map({'S':0, 'C':1, 'Q':2,'nan':'NaN'})\n",
        "df2.head()"
      ],
      "metadata": {
        "execution": {
          "iopub.status.busy": "2022-07-15T07:30:25.968978Z",
          "iopub.execute_input": "2022-07-15T07:30:25.970058Z",
          "iopub.status.idle": "2022-07-15T07:30:25.994166Z",
          "shell.execute_reply.started": "2022-07-15T07:30:25.970013Z",
          "shell.execute_reply": "2022-07-15T07:30:25.992508Z"
        },
        "trusted": true,
        "id": "lQ7zKDiWy1BN"
      },
      "execution_count": null,
      "outputs": []
    },
    {
      "cell_type": "code",
      "source": [
        "#Let's check for the null values\n",
        "df2.isnull().sum()"
      ],
      "metadata": {
        "execution": {
          "iopub.status.busy": "2022-07-15T07:30:25.996239Z",
          "iopub.execute_input": "2022-07-15T07:30:25.997591Z",
          "iopub.status.idle": "2022-07-15T07:30:26.015471Z",
          "shell.execute_reply.started": "2022-07-15T07:30:25.99751Z",
          "shell.execute_reply": "2022-07-15T07:30:26.014186Z"
        },
        "trusted": true,
        "id": "VM_z2MrFy1BN"
      },
      "execution_count": null,
      "outputs": []
    },
    {
      "cell_type": "code",
      "source": [
        "#Finding mean age\n",
        "mean_age_men2=df2[df2['Sex']==1]['Age'].mean()\n",
        "mean_age_women2=df2[df2['Sex']==0]['Age'].mean()"
      ],
      "metadata": {
        "execution": {
          "iopub.status.busy": "2022-07-15T07:30:26.016724Z",
          "iopub.execute_input": "2022-07-15T07:30:26.017199Z",
          "iopub.status.idle": "2022-07-15T07:30:26.03361Z",
          "shell.execute_reply.started": "2022-07-15T07:30:26.017153Z",
          "shell.execute_reply": "2022-07-15T07:30:26.032088Z"
        },
        "trusted": true,
        "id": "UztN6NRny1BO"
      },
      "execution_count": null,
      "outputs": []
    },
    {
      "cell_type": "code",
      "source": [
        "#Filling all the null values in 'Age' and 'Fare' with respective mean age and mean fare\n",
        "df2.loc[(df2.Age.isnull()) & (df2['Sex']==0),'Age']=mean_age_women2\n",
        "df2.loc[(df2.Age.isnull()) & (df2['Sex']==1),'Age']=mean_age_men2\n",
        "df2['Fare']=df2['Fare'].fillna(df2['Fare'].mean())"
      ],
      "metadata": {
        "execution": {
          "iopub.status.busy": "2022-07-15T07:30:26.036016Z",
          "iopub.execute_input": "2022-07-15T07:30:26.036673Z",
          "iopub.status.idle": "2022-07-15T07:30:26.056884Z",
          "shell.execute_reply.started": "2022-07-15T07:30:26.036616Z",
          "shell.execute_reply": "2022-07-15T07:30:26.054985Z"
        },
        "trusted": true,
        "id": "-VBUyXPSy1BO"
      },
      "execution_count": null,
      "outputs": []
    },
    {
      "cell_type": "code",
      "source": [
        "df2.isnull().sum()"
      ],
      "metadata": {
        "execution": {
          "iopub.status.busy": "2022-07-15T07:30:26.058635Z",
          "iopub.execute_input": "2022-07-15T07:30:26.059814Z",
          "iopub.status.idle": "2022-07-15T07:30:26.080893Z",
          "shell.execute_reply.started": "2022-07-15T07:30:26.059768Z",
          "shell.execute_reply": "2022-07-15T07:30:26.079765Z"
        },
        "trusted": true,
        "id": "FIfEOo5Dy1BO"
      },
      "execution_count": null,
      "outputs": []
    },
    {
      "cell_type": "code",
      "source": [
        "#Doing Feature Scaling to standardize the independent features present in the data in a fixed range\n",
        "df2.Age = (df2.Age-min(df2.Age))/(max(df2.Age)-min(df2.Age))\n",
        "df2.Fare = (df2.Fare-min(df2.Fare))/(max(df2.Fare)-min(df2.Fare))\n",
        "df2.describe()"
      ],
      "metadata": {
        "execution": {
          "iopub.status.busy": "2022-07-15T07:30:26.083057Z",
          "iopub.execute_input": "2022-07-15T07:30:26.084751Z",
          "iopub.status.idle": "2022-07-15T07:30:26.125951Z",
          "shell.execute_reply.started": "2022-07-15T07:30:26.084696Z",
          "shell.execute_reply": "2022-07-15T07:30:26.124915Z"
        },
        "trusted": true,
        "id": "Cnzc5JyKy1BO"
      },
      "execution_count": null,
      "outputs": []
    },
    {
      "cell_type": "markdown",
      "source": [
        "# **Prediction**"
      ],
      "metadata": {
        "id": "_3C9mydIy1BO"
      }
    },
    {
      "cell_type": "code",
      "source": [
        "prediction = lrmod.predict(df2)\n",
        "prediction"
      ],
      "metadata": {
        "execution": {
          "iopub.status.busy": "2022-07-15T07:30:26.127608Z",
          "iopub.execute_input": "2022-07-15T07:30:26.128475Z",
          "iopub.status.idle": "2022-07-15T07:30:26.144489Z",
          "shell.execute_reply.started": "2022-07-15T07:30:26.128429Z",
          "shell.execute_reply": "2022-07-15T07:30:26.141883Z"
        },
        "trusted": true,
        "id": "WCOkj5Xdy1BO"
      },
      "execution_count": null,
      "outputs": []
    },
    {
      "cell_type": "code",
      "source": [
        "submission = pd.DataFrame({\"PassengerId\": test[\"PassengerId\"],\n",
        "                            \"Survived\": prediction})\n",
        "submission.to_csv('submission.csv', index=False)"
      ],
      "metadata": {
        "execution": {
          "iopub.status.busy": "2022-07-15T07:30:26.147128Z",
          "iopub.execute_input": "2022-07-15T07:30:26.14816Z",
          "iopub.status.idle": "2022-07-15T07:30:26.157774Z",
          "shell.execute_reply.started": "2022-07-15T07:30:26.148112Z",
          "shell.execute_reply": "2022-07-15T07:30:26.156059Z"
        },
        "trusted": true,
        "id": "X-cSFVgQy1BO"
      },
      "execution_count": null,
      "outputs": []
    },
    {
      "cell_type": "code",
      "source": [
        "prediction_df = pd.read_csv('submission.csv')"
      ],
      "metadata": {
        "execution": {
          "iopub.status.busy": "2022-07-15T07:30:26.15947Z",
          "iopub.execute_input": "2022-07-15T07:30:26.160846Z",
          "iopub.status.idle": "2022-07-15T07:30:26.17789Z",
          "shell.execute_reply.started": "2022-07-15T07:30:26.160799Z",
          "shell.execute_reply": "2022-07-15T07:30:26.175337Z"
        },
        "trusted": true,
        "id": "2lHCBKW-y1BT"
      },
      "execution_count": null,
      "outputs": []
    },
    {
      "cell_type": "code",
      "source": [
        "#Visualizing predicted values\n",
        "sns.countplot(x='Survived', data=prediction_df)"
      ],
      "metadata": {
        "execution": {
          "iopub.status.busy": "2022-07-15T07:30:26.180363Z",
          "iopub.execute_input": "2022-07-15T07:30:26.181238Z",
          "iopub.status.idle": "2022-07-15T07:30:26.381717Z",
          "shell.execute_reply.started": "2022-07-15T07:30:26.181138Z",
          "shell.execute_reply": "2022-07-15T07:30:26.380319Z"
        },
        "trusted": true,
        "id": "PP8pEeKGy1BT"
      },
      "execution_count": null,
      "outputs": []
    }
  ]
}